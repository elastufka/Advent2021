{
 "cells": [
  {
   "cell_type": "code",
   "execution_count": null,
   "metadata": {},
   "outputs": [],
   "source": [
    "#imports"
   ]
  },
  {
   "cell_type": "markdown",
   "metadata": {},
   "source": [
    "## Day 1\n",
    "\n",
    "To do this, count the number of times a depth measurement increases from the previous measurement.\n",
    "\n",
    "How many measurements are larger than the previous measurement?"
   ]
  },
  {
   "cell_type": "markdown",
   "metadata": {},
   "source": [
    "### Example\n",
    "\n",
    "199 (N/A - no previous measurement)\n",
    "\n",
    "200 (increased)\n",
    "\n",
    "208 (increased)\n",
    "\n",
    "210 (increased)\n",
    "\n",
    "200 (decreased)\n",
    "\n",
    "207 (increased)\n",
    "\n",
    "240 (increased)\n",
    "\n",
    "269 (increased)\n",
    "\n",
    "260 (decreased)\n",
    "\n",
    "263 (increased)"
   ]
  },
  {
   "cell_type": "code",
   "execution_count": 1,
   "metadata": {},
   "outputs": [],
   "source": [
    "test_input=[199,200,208,210,200,207,240,269,260,263] #answer = 7"
   ]
  },
  {
   "cell_type": "code",
   "execution_count": 41,
   "metadata": {},
   "outputs": [],
   "source": [
    "test_input_df=pd.DataFrame({0:test_input})"
   ]
  },
  {
   "cell_type": "code",
   "execution_count": 21,
   "metadata": {},
   "outputs": [],
   "source": [
    "def day1_part1(input_list):\n",
    "    count=0\n",
    "    for i,item in enumerate(input_list[:-1]):\n",
    "        if input_list[i+1] > item:\n",
    "            count+=1\n",
    "    return count"
   ]
  },
  {
   "cell_type": "code",
   "execution_count": 22,
   "metadata": {},
   "outputs": [
    {
     "data": {
      "text/plain": [
       "7"
      ]
     },
     "execution_count": 22,
     "metadata": {},
     "output_type": "execute_result"
    }
   ],
   "source": [
    "day1_part1(test_input)"
   ]
  },
  {
   "cell_type": "code",
   "execution_count": 32,
   "metadata": {},
   "outputs": [],
   "source": [
    "day1_input=pd.read_csv('input_day1.txt',header=None)\n",
    "day1list=day1_input[0].to_list()"
   ]
  },
  {
   "cell_type": "code",
   "execution_count": 33,
   "metadata": {},
   "outputs": [
    {
     "data": {
      "text/plain": [
       "1393"
      ]
     },
     "execution_count": 33,
     "metadata": {},
     "output_type": "execute_result"
    }
   ],
   "source": [
    "day1_part1(day1list)"
   ]
  },
  {
   "cell_type": "markdown",
   "metadata": {},
   "source": [
    "### Part 2\n",
    "Instead, consider sums of a three-measurement sliding window.\n",
    "\n",
    "Start by comparing the first and second three-measurement windows. The measurements in the first window are marked A (199, 200, 208); their sum is 199 + 200 + 208 = 607. The second window is marked B (200, 208, 210); its sum is 618. The sum of measurements in the second window is larger than the sum of the first, so this first comparison increased.\n",
    "\n",
    "Your goal now is to count the number of times the sum of measurements in this sliding window increases from the previous sum. So, compare A with B, then compare B with C, then C with D, and so on. Stop when there aren't enough measurements left to create a new three-measurement sum."
   ]
  },
  {
   "cell_type": "code",
   "execution_count": 68,
   "metadata": {},
   "outputs": [],
   "source": [
    "def day1_part2(input_series):\n",
    "    count=0\n",
    "    threedf=input_series.rolling(3)[0].sum().to_list()[2:]\n",
    "    for i,item in enumerate(threedf[:-1]):\n",
    "        if threedf[i+1] > item:\n",
    "            count+=1\n",
    "    return count"
   ]
  },
  {
   "cell_type": "code",
   "execution_count": 69,
   "metadata": {},
   "outputs": [
    {
     "data": {
      "text/plain": [
       "5"
      ]
     },
     "execution_count": 69,
     "metadata": {},
     "output_type": "execute_result"
    }
   ],
   "source": [
    "day1_part2(test_input_df) #answer should be 5"
   ]
  },
  {
   "cell_type": "code",
   "execution_count": 70,
   "metadata": {},
   "outputs": [
    {
     "data": {
      "text/plain": [
       "1359"
      ]
     },
     "execution_count": 70,
     "metadata": {},
     "output_type": "execute_result"
    }
   ],
   "source": [
    "day1_part2(day1_input)"
   ]
  },
  {
   "cell_type": "markdown",
   "metadata": {},
   "source": [
    "# Day 2\n",
    "\n",
    "It seems like the submarine can take a series of commands like forward 1, down 2, or up 3:\n",
    "\n",
    "    forward X increases the horizontal position by X units.\n",
    "    down X increases the depth by X units.\n",
    "    up X decreases the depth by X units.\n",
    "\n",
    "Note that since you're on a submarine, down and up affect your depth, and so they have the opposite result of what you might expect.\n",
    "\n",
    "The submarine seems to already have a planned course (your puzzle input). You should probably figure out where it's going. For example:\n",
    "\n",
    "forward 5\n",
    "down 5\n",
    "forward 8\n",
    "up 3\n",
    "down 8\n",
    "forward 2\n",
    "\n",
    "Your horizontal position and depth both start at 0. The steps above would then modify them as follows:\n",
    "\n",
    "    forward 5 adds 5 to your horizontal position, a total of 5.\n",
    "    down 5 adds 5 to your depth, resulting in a value of 5.\n",
    "    forward 8 adds 8 to your horizontal position, a total of 13.\n",
    "    up 3 decreases your depth by 3, resulting in a value of 2.\n",
    "    down 8 adds 8 to your depth, resulting in a value of 10.\n",
    "    forward 2 adds 2 to your horizontal position, a total of 15.\n",
    "\n",
    "After following these instructions, you would have a horizontal position of 15 and a depth of 10. (Multiplying these together produces 150.)\n",
    "\n",
    "Calculate the horizontal position and depth you would have after following the planned course. **What do you get if you multiply your final horizontal position by your final depth?**"
   ]
  },
  {
   "cell_type": "code",
   "execution_count": 71,
   "metadata": {},
   "outputs": [],
   "source": [
    "test_input=pd.DataFrame({0:['forward','down','forward','up','down','forward'],1:[5,5,8,3,8,2]})"
   ]
  },
  {
   "cell_type": "code",
   "execution_count": 84,
   "metadata": {},
   "outputs": [],
   "source": [
    "def day2_part1(day2_input):\n",
    "    x,y=0,0\n",
    "    #direction can only be forward, up, down\n",
    "    day2_input.replace({'forward':0},inplace=True)\n",
    "    day2_input.replace({'up':-1},inplace=True)\n",
    "    day2_input.replace({'down':1},inplace=True)\n",
    "    for _,row in day2_input.iterrows():\n",
    "        if row[0] == 0:\n",
    "            x+=row[1]\n",
    "        else:\n",
    "            y+=row[0]*row[1]\n",
    "    print(x,y)\n",
    "    return x*y\n",
    "            "
   ]
  },
  {
   "cell_type": "code",
   "execution_count": 85,
   "metadata": {},
   "outputs": [
    {
     "name": "stdout",
     "output_type": "stream",
     "text": [
      "15 10\n"
     ]
    },
    {
     "data": {
      "text/plain": [
       "150"
      ]
     },
     "execution_count": 85,
     "metadata": {},
     "output_type": "execute_result"
    }
   ],
   "source": [
    "day2_part1(test_input)"
   ]
  },
  {
   "cell_type": "code",
   "execution_count": 87,
   "metadata": {},
   "outputs": [
    {
     "data": {
      "text/html": [
       "<div>\n",
       "<style scoped>\n",
       "    .dataframe tbody tr th:only-of-type {\n",
       "        vertical-align: middle;\n",
       "    }\n",
       "\n",
       "    .dataframe tbody tr th {\n",
       "        vertical-align: top;\n",
       "    }\n",
       "\n",
       "    .dataframe thead th {\n",
       "        text-align: right;\n",
       "    }\n",
       "</style>\n",
       "<table border=\"1\" class=\"dataframe\">\n",
       "  <thead>\n",
       "    <tr style=\"text-align: right;\">\n",
       "      <th></th>\n",
       "      <th>0</th>\n",
       "      <th>1</th>\n",
       "    </tr>\n",
       "  </thead>\n",
       "  <tbody>\n",
       "    <tr>\n",
       "      <th>0</th>\n",
       "      <td>forward</td>\n",
       "      <td>8</td>\n",
       "    </tr>\n",
       "    <tr>\n",
       "      <th>1</th>\n",
       "      <td>forward</td>\n",
       "      <td>9</td>\n",
       "    </tr>\n",
       "    <tr>\n",
       "      <th>2</th>\n",
       "      <td>forward</td>\n",
       "      <td>9</td>\n",
       "    </tr>\n",
       "    <tr>\n",
       "      <th>3</th>\n",
       "      <td>down</td>\n",
       "      <td>3</td>\n",
       "    </tr>\n",
       "    <tr>\n",
       "      <th>4</th>\n",
       "      <td>forward</td>\n",
       "      <td>9</td>\n",
       "    </tr>\n",
       "  </tbody>\n",
       "</table>\n",
       "</div>"
      ],
      "text/plain": [
       "         0  1\n",
       "0  forward  8\n",
       "1  forward  9\n",
       "2  forward  9\n",
       "3     down  3\n",
       "4  forward  9"
      ]
     },
     "execution_count": 87,
     "metadata": {},
     "output_type": "execute_result"
    }
   ],
   "source": [
    "day2_input=pd.read_csv('input_day2.txt',header=None,delimiter=' ')\n",
    "day2_input.head()"
   ]
  },
  {
   "cell_type": "code",
   "execution_count": 88,
   "metadata": {},
   "outputs": [
    {
     "name": "stdout",
     "output_type": "stream",
     "text": [
      "2003 872\n"
     ]
    },
    {
     "data": {
      "text/plain": [
       "1746616"
      ]
     },
     "execution_count": 88,
     "metadata": {},
     "output_type": "execute_result"
    }
   ],
   "source": [
    "day2_part1(day2_input)"
   ]
  },
  {
   "cell_type": "markdown",
   "metadata": {},
   "source": [
    "## Part 2\n",
    "\n",
    "In addition to horizontal position and depth, you'll also need to track a third value, aim, which also starts at 0. The commands also mean something entirely different than you first thought:\n",
    "\n",
    "    down X increases your aim by X units.\n",
    "    up X decreases your aim by X units.\n",
    "    forward X does two things:\n",
    "        It increases your horizontal position by X units.\n",
    "        It increases your depth by your aim multiplied by X.\n",
    "\n",
    "example: After following these new instructions, you would have a horizontal position of 15 and a depth of 60. (Multiplying these produces 900.)"
   ]
  },
  {
   "cell_type": "code",
   "execution_count": 100,
   "metadata": {},
   "outputs": [],
   "source": [
    "def day2_part2(day2_input):\n",
    "    x,y,aim=0,0,0\n",
    "    #direction can only be forward, up, down\n",
    "    day2_input.replace({'forward':0},inplace=True)\n",
    "    day2_input.replace({'up':-1},inplace=True)\n",
    "    day2_input.replace({'down':1},inplace=True)\n",
    "    for _,row in day2_input.iterrows():\n",
    "        if row[0] == 0:\n",
    "            x+=row[1]\n",
    "            y+=row[1]*aim\n",
    "        else:\n",
    "            aim+=row[0]*row[1]\n",
    "    print(x,y,aim)\n",
    "    return x*y"
   ]
  },
  {
   "cell_type": "code",
   "execution_count": 101,
   "metadata": {},
   "outputs": [
    {
     "name": "stdout",
     "output_type": "stream",
     "text": [
      "15 60 10\n"
     ]
    },
    {
     "data": {
      "text/plain": [
       "900"
      ]
     },
     "execution_count": 101,
     "metadata": {},
     "output_type": "execute_result"
    }
   ],
   "source": [
    "day2_part2(test_input)"
   ]
  },
  {
   "cell_type": "code",
   "execution_count": 102,
   "metadata": {},
   "outputs": [
    {
     "name": "stdout",
     "output_type": "stream",
     "text": [
      "2003 869681 872\n"
     ]
    },
    {
     "data": {
      "text/plain": [
       "1741971043"
      ]
     },
     "execution_count": 102,
     "metadata": {},
     "output_type": "execute_result"
    }
   ],
   "source": [
    "day2_part2(day2_input)"
   ]
  },
  {
   "cell_type": "markdown",
   "metadata": {},
   "source": [
    "# Day 3\n",
    "\n",
    "The diagnostic report (your puzzle input) consists of a list of binary numbers which, when decoded properly, can tell you many useful things about the conditions of the submarine. The first parameter to check is the power consumption.\n",
    "\n",
    "You need to use the binary numbers in the diagnostic report to generate two new binary numbers (called the gamma rate and the epsilon rate). The power consumption can then be found by multiplying the gamma rate by the epsilon rate.\n",
    "\n",
    "Each bit in the gamma rate can be determined by finding the most common bit in the corresponding position of all numbers in the diagnostic report. For example, given the following diagnostic report:\n",
    "\n",
    "00100\n",
    "11110\n",
    "10110\n",
    "10111\n",
    "10101\n",
    "01111\n",
    "00111\n",
    "11100\n",
    "10000\n",
    "11001\n",
    "00010\n",
    "01010\n",
    "\n",
    "Considering only the first bit of each number, there are five 0 bits and seven 1 bits. Since the most common bit is 1, the first bit of the gamma rate is 1.\n",
    "\n",
    "The most common second bit of the numbers in the diagnostic report is 0, so the second bit of the gamma rate is 0.\n",
    "\n",
    "The most common value of the third, fourth, and fifth bits are 1, 1, and 0, respectively, and so the final three bits of the gamma rate are 110.\n",
    "\n",
    "So, the gamma rate is the binary number 10110, or 22 in decimal.\n",
    "\n",
    "The epsilon rate is calculated in a similar way; rather than use the most common bit, the least common bit from each position is used. So, the epsilon rate is 01001, or 9 in decimal. Multiplying the gamma rate (22) by the epsilon rate (9) produces the power consumption, 198.\n",
    "\n",
    "Use the binary numbers in your diagnostic report to calculate the gamma rate and epsilon rate, then multiply them together. **What is the power consumption of the submarine?** (Be sure to represent your answer in decimal, not binary.)"
   ]
  },
  {
   "cell_type": "code",
   "execution_count": 103,
   "metadata": {},
   "outputs": [],
   "source": [
    "test_input=['00100', '11110', '10110', '10111', '10101', '01111', '00111', '11100', '10000', '11001', '00010', '01010']"
   ]
  },
  {
   "cell_type": "code",
   "execution_count": 146,
   "metadata": {},
   "outputs": [],
   "source": [
    "def day3_part1(blist,blen=5):\n",
    "    gamma,epsilon=[],[]\n",
    "    for i in range(blen):\n",
    "        g=np.argmax(np.bincount([str(b)[i] for b in blist])) #most common bit\n",
    "        gamma.append(str(g))\n",
    "        epsilon.append(str(1-g))\n",
    "    gamma_dec=int(''.join(gamma),2)\n",
    "    epsilon_dec=int(''.join(epsilon),2)\n",
    "    return gamma_dec*epsilon_dec\n"
   ]
  },
  {
   "cell_type": "code",
   "execution_count": 147,
   "metadata": {},
   "outputs": [
    {
     "data": {
      "text/plain": [
       "198"
      ]
     },
     "execution_count": 147,
     "metadata": {},
     "output_type": "execute_result"
    }
   ],
   "source": [
    "day3_part1(test_input,blen=5)"
   ]
  },
  {
   "cell_type": "code",
   "execution_count": 153,
   "metadata": {},
   "outputs": [
    {
     "data": {
      "text/plain": [
       "(12,\n",
       " ['111110110111',\n",
       "  '110011001101',\n",
       "  '110100000011',\n",
       "  '100011000101',\n",
       "  '110010010000',\n",
       "  '100110100101',\n",
       "  '111000010101',\n",
       "  '011110011001',\n",
       "  '111001110111',\n",
       "  '101001101001'])"
      ]
     },
     "execution_count": 153,
     "metadata": {},
     "output_type": "execute_result"
    }
   ],
   "source": [
    "day3_input=pd.read_csv('input_day3.txt',header=None,converters={0: lambda x: str(x)})\n",
    "day3list=day3_input[0].to_list()\n",
    "len(day3list[0]),day3list[:10]"
   ]
  },
  {
   "cell_type": "code",
   "execution_count": 154,
   "metadata": {},
   "outputs": [
    {
     "data": {
      "text/plain": [
       "2724524"
      ]
     },
     "execution_count": 154,
     "metadata": {},
     "output_type": "execute_result"
    }
   ],
   "source": [
    "day3_part1(day3list,blen=12)"
   ]
  },
  {
   "cell_type": "markdown",
   "metadata": {},
   "source": [
    "## Part 2\n",
    "\n",
    "Next, you should verify the life support rating, which can be determined by multiplying the oxygen generator rating by the CO2 scrubber rating.\n",
    "\n",
    "Both the oxygen generator rating and the CO2 scrubber rating are values that can be found in your diagnostic report - finding them is the tricky part. Both values are located using a similar process that involves filtering out values until only one remains. Before searching for either rating value, start with the full list of binary numbers from your diagnostic report and consider just the first bit of those numbers. Then:\n",
    "\n",
    "    Keep only numbers selected by the bit criteria for the type of rating value for which you are searching. Discard numbers which do not match the bit criteria.\n",
    "    If you only have one number left, stop; this is the rating value for which you are searching.\n",
    "    Otherwise, repeat the process, considering the next bit to the right.\n",
    "\n",
    "The bit criteria depends on which type of rating value you want to find:\n",
    "\n",
    "    To find oxygen generator rating, determine the most common value (0 or 1) in the current bit position, and keep only numbers with that bit in that position. If 0 and 1 are equally common, keep values with a 1 in the position being considered.\n",
    "    To find CO2 scrubber rating, determine the least common value (0 or 1) in the current bit position, and keep only numbers with that bit in that position. If 0 and 1 are equally common, keep values with a 0 in the position being considered.\n",
    "\n",
    "For example, to determine the oxygen generator rating value using the same example diagnostic report from above:\n",
    "\n",
    "    Start with all 12 numbers and consider only the first bit of each number. There are more 1 bits (7) than 0 bits (5), so keep only the 7 numbers with a 1 in the first position: 11110, 10110, 10111, 10101, 11100, 10000, and 11001.\n",
    "    Then, consider the second bit of the 7 remaining numbers: there are more 0 bits (4) than 1 bits (3), so keep only the 4 numbers with a 0 in the second position: 10110, 10111, 10101, and 10000.\n",
    "    In the third position, three of the four numbers have a 1, so keep those three: 10110, 10111, and 10101.\n",
    "    In the fourth position, two of the three numbers have a 1, so keep those two: 10110 and 10111.\n",
    "    In the fifth position, there are an equal number of 0 bits and 1 bits (one each). So, to find the oxygen generator rating, keep the number with a 1 in that position: 10111.\n",
    "    As there is only one number left, stop; the oxygen generator rating is 10111, or 23 in decimal.\n",
    "\n",
    "Then, to determine the CO2 scrubber rating value from the same example above:\n",
    "\n",
    "    Start again with all 12 numbers and consider only the first bit of each number. There are fewer 0 bits (5) than 1 bits (7), so keep only the 5 numbers with a 0 in the first position: 00100, 01111, 00111, 00010, and 01010.\n",
    "    Then, consider the second bit of the 5 remaining numbers: there are fewer 1 bits (2) than 0 bits (3), so keep only the 2 numbers with a 1 in the second position: 01111 and 01010.\n",
    "    In the third position, there are an equal number of 0 bits and 1 bits (one each). So, to find the CO2 scrubber rating, keep the number with a 0 in that position: 01010.\n",
    "    As there is only one number left, stop; the CO2 scrubber rating is 01010, or 10 in decimal.\n",
    "\n",
    "Finally, to find the life support rating, multiply the oxygen generator rating (23) by the CO2 scrubber rating (10) to get 230.\n",
    "\n",
    "Use the binary numbers in your diagnostic report to calculate the oxygen generator rating and CO2 scrubber rating, then multiply them together. What is the life support rating of the submarine? (Be sure to represent your answer in decimal, not binary.)"
   ]
  },
  {
   "cell_type": "code",
   "execution_count": 194,
   "metadata": {},
   "outputs": [],
   "source": [
    "from operator import lt, ge"
   ]
  },
  {
   "cell_type": "code",
   "execution_count": 199,
   "metadata": {},
   "outputs": [],
   "source": [
    "def filter_values(blist,i,fn=ge):\n",
    "    ones=[b for b in blist if b[i] == '1']\n",
    "    zeros=[b for b in blist if b[i] == '0']\n",
    "    if fn(len(ones),len(zeros)):\n",
    "        blist=ones\n",
    "    else: \n",
    "        blist=zeros\n",
    "    return blist\n",
    "\n",
    "def day3_part2(blist,blen=5):\n",
    "    o2=blist.copy()\n",
    "    co2=blist.copy()\n",
    "    for i in range(blen):\n",
    "        o2=filter_values(o2,i)\n",
    "        if len(o2)==1:\n",
    "            break\n",
    "    for i in range(blen):\n",
    "        co2=filter_values(co2,i,fn=lt)\n",
    "        #print(i,co2)\n",
    "        if len(co2)==1:\n",
    "            break\n",
    "    return int(o2[0],2)*int(co2[0],2)\n"
   ]
  },
  {
   "cell_type": "code",
   "execution_count": 200,
   "metadata": {},
   "outputs": [
    {
     "data": {
      "text/plain": [
       "230"
      ]
     },
     "execution_count": 200,
     "metadata": {},
     "output_type": "execute_result"
    }
   ],
   "source": [
    "day3_part2(test_input)"
   ]
  },
  {
   "cell_type": "code",
   "execution_count": 201,
   "metadata": {},
   "outputs": [
    {
     "data": {
      "text/plain": [
       "2775870"
      ]
     },
     "execution_count": 201,
     "metadata": {},
     "output_type": "execute_result"
    }
   ],
   "source": [
    "day3_part2(day3list,blen=12)"
   ]
  },
  {
   "cell_type": "markdown",
   "metadata": {},
   "source": [
    "# Day 4\n",
    "\n",
    "The submarine has a bingo subsystem to help passengers (currently, you and the giant squid) pass the time. It automatically generates a random order in which to draw numbers and a random set of boards (your puzzle input). \n",
    "After the first five numbers are drawn (7, 4, 9, 5, and 11), there are no winners, but the boards are marked as follows (shown here adjacent to each other to save space):\n",
    "\n",
    "After the next six numbers are drawn (17, 23, 2, 0, 14, and 21), there are still no winners:\n",
    "\n",
    "Finally, 24 is drawn:\n",
    "\n",
    "At this point, the third board wins because it has at least one complete row or column of marked numbers (in this case, the entire top row is marked: 14 21 17 24 4).\n",
    "\n",
    "The score of the winning board can now be calculated. Start by finding the sum of all unmarked numbers on that board; in this case, the sum is 188. Then, multiply that sum by the number that was just called when the board won, 24, to get the final score, 188 * 24 = 4512.\n",
    "\n",
    "To guarantee victory against the giant squid, figure out which board will win first. What will your final score be if you choose that board?"
   ]
  },
  {
   "cell_type": "code",
   "execution_count": 33,
   "metadata": {},
   "outputs": [],
   "source": [
    "import numpy.ma \n",
    "from numpy.ma import MaskError"
   ]
  },
  {
   "cell_type": "code",
   "execution_count": 65,
   "metadata": {},
   "outputs": [],
   "source": [
    "class Bingo():\n",
    "    def __init__(self,textfile,let_the_squid_win=False):\n",
    "        moves,boards=self.read_input(textfile)\n",
    "        self.moves=moves\n",
    "        self.boards=boards\n",
    "        self.let_the_squid_win=let_the_squid_win\n",
    "        print(len(self.boards))\n",
    "        \n",
    "    def read_input(self,textfile):\n",
    "        with open(textfile) as f:\n",
    "            lines=f.readlines()\n",
    "            moves=lines[0][:-3].split(',')\n",
    "            moves=[int(m) for m in moves]\n",
    "        nboards=(len(lines)-1)//5\n",
    "        #print(nboards)\n",
    "        df=pd.read_csv(textfile,header=None,skiprows=1)\n",
    "        boards=[df[0][i*5:5*(i+1)].values.tolist() for i in range(nboards)]\n",
    "        for i,board in enumerate(boards):\n",
    "            blist=[row.strip().replace('  ',' ').split(' ') for row in board]\n",
    "            blon=[int(b) for row in blist for b in row]\n",
    "            try:\n",
    "                barr=np.ma.array(blon,mask=np.zeros((5,5))).reshape((5,5))\n",
    "                boards[i]=barr\n",
    "            except MaskError:\n",
    "                boards=boards[:i]\n",
    "                break\n",
    "        return moves,boards\n",
    "    \n",
    "    def draw_number(self,move):\n",
    "        for i,board in enumerate(self.boards):\n",
    "            num_loc=np.where(board == move)\n",
    "            #print(num_loc[0],num_loc[1],num_loc[0].size)\n",
    "            if num_loc[0].size !=0:\n",
    "                cmask=self.boards[i].mask\n",
    "                cmask[num_loc[0],num_loc[1]] = True\n",
    "                self.boards[i].mask=cmask\n",
    "                \n",
    "    def check_win(self,wins):\n",
    "        winning_board=0\n",
    "        for i,board in enumerate(self.boards):\n",
    "            if i not in wins:\n",
    "                bmask=board.mask\n",
    "                rowsums=np.sum(bmask,axis=0)\n",
    "                colsums=np.sum(bmask,axis=1)\n",
    "                if 5 in rowsums or 5 in colsums:\n",
    "                    wins.append(i)\n",
    "                    winning_board=board\n",
    "                    if not self.let_the_squid_win:\n",
    "                        break #doesn't allow for tie\n",
    "                    else: #multiple boards can win at once\n",
    "                        print(f'board {i} has won!')\n",
    "        return wins,winning_board\n",
    "    \n",
    "    def calc_score(self,winning_move,winning_board):\n",
    "        #sum of all unwinning numbers times number of winning move\n",
    "        return winning_move*np.sum(winning_board)\n",
    "    \n",
    "    def play_bingo(self):\n",
    "        wins=[-1]\n",
    "        for move in self.moves:\n",
    "            self.draw_number(move)\n",
    "            #print(move)\n",
    "            wins,winning_board=self.check_win(wins)\n",
    "            if type(winning_board) == np.ma.masked_array and self.let_the_squid_win == False:\n",
    "                score=self.calc_score(move,winning_board)\n",
    "                break\n",
    "            elif len(np.unique(wins))==len(self.boards)+1: #or move= last_move\n",
    "                print(move,win,winning_board)\n",
    "                score=self.calc_score(move,winning_board)\n",
    "                break\n",
    "        return wins,winning_board,score"
   ]
  },
  {
   "cell_type": "code",
   "execution_count": 66,
   "metadata": {},
   "outputs": [
    {
     "name": "stdout",
     "output_type": "stream",
     "text": [
      "3\n"
     ]
    },
    {
     "data": {
      "text/plain": [
       "4512"
      ]
     },
     "execution_count": 66,
     "metadata": {},
     "output_type": "execute_result"
    }
   ],
   "source": [
    "_,_,score=Bingo('test_input_day4.txt').play_bingo()\n",
    "score"
   ]
  },
  {
   "cell_type": "code",
   "execution_count": 67,
   "metadata": {
    "scrolled": true
   },
   "outputs": [
    {
     "name": "stdout",
     "output_type": "stream",
     "text": [
      "100\n"
     ]
    },
    {
     "data": {
      "text/plain": [
       "16674"
      ]
     },
     "execution_count": 67,
     "metadata": {},
     "output_type": "execute_result"
    }
   ],
   "source": [
    "win,winning_board,score=Bingo('input_day4.txt').play_bingo()\n",
    "score"
   ]
  },
  {
   "cell_type": "markdown",
   "metadata": {},
   "source": [
    "## Part Two \n",
    "\n",
    "On the other hand, it might be wise to try a different strategy: let the giant squid win.\n",
    "\n",
    "You aren't sure how many bingo boards a giant squid could play at once, so rather than waste time counting its arms, the safe thing to do is to figure out which board will win last and choose that one. That way, no matter which boards it picks, it will win for sure.\n",
    "\n",
    "In the above example, the second board is the last to win, which happens after 13 is eventually called and its middle column is completely marked. If you were to keep playing until this point, the second board would have a sum of unmarked numbers equal to 148 for a final score of 148 * 13 = 1924.\n",
    "\n",
    "**Figure out which board will win last. Once it wins, what would its final score be?**\n"
   ]
  },
  {
   "cell_type": "code",
   "execution_count": 68,
   "metadata": {},
   "outputs": [
    {
     "name": "stdout",
     "output_type": "stream",
     "text": [
      "3\n",
      "board 2 has won!\n",
      "board 0 has won!\n",
      "board 1 has won!\n",
      "13 [-1, 34] [[3 15 -- -- 22]\n",
      " [-- 18 -- -- --]\n",
      " [19 8 -- 25 --]\n",
      " [20 -- -- -- --]\n",
      " [-- -- -- 12 6]]\n"
     ]
    },
    {
     "data": {
      "text/plain": [
       "([-1, 2, 0, 1], 1924)"
      ]
     },
     "execution_count": 68,
     "metadata": {},
     "output_type": "execute_result"
    }
   ],
   "source": [
    "win,_,score=Bingo('test_input_day4.txt',let_the_squid_win=True).play_bingo()\n",
    "win,score"
   ]
  },
  {
   "cell_type": "code",
   "execution_count": 70,
   "metadata": {
    "scrolled": true
   },
   "outputs": [
    {
     "name": "stdout",
     "output_type": "stream",
     "text": [
      "100\n",
      "board 34 has won!\n",
      "board 73 has won!\n",
      "board 87 has won!\n",
      "board 97 has won!\n",
      "board 62 has won!\n",
      "board 1 has won!\n",
      "board 79 has won!\n",
      "board 8 has won!\n",
      "board 9 has won!\n",
      "board 20 has won!\n",
      "board 38 has won!\n",
      "board 57 has won!\n",
      "board 83 has won!\n",
      "board 88 has won!\n",
      "board 14 has won!\n",
      "board 21 has won!\n",
      "board 58 has won!\n",
      "board 75 has won!\n",
      "board 72 has won!\n",
      "board 74 has won!\n",
      "board 65 has won!\n",
      "board 27 has won!\n",
      "board 49 has won!\n",
      "board 69 has won!\n",
      "board 10 has won!\n",
      "board 32 has won!\n",
      "board 36 has won!\n",
      "board 68 has won!\n",
      "board 26 has won!\n",
      "board 96 has won!\n",
      "board 45 has won!\n",
      "board 78 has won!\n",
      "board 91 has won!\n",
      "board 92 has won!\n",
      "board 95 has won!\n",
      "board 90 has won!\n",
      "board 5 has won!\n",
      "board 61 has won!\n",
      "board 76 has won!\n",
      "board 99 has won!\n",
      "board 12 has won!\n",
      "board 94 has won!\n",
      "board 31 has won!\n",
      "board 37 has won!\n",
      "board 48 has won!\n",
      "board 53 has won!\n",
      "board 81 has won!\n",
      "board 93 has won!\n",
      "board 13 has won!\n",
      "board 55 has won!\n",
      "board 42 has won!\n",
      "board 60 has won!\n",
      "board 54 has won!\n",
      "board 67 has won!\n",
      "board 2 has won!\n",
      "board 70 has won!\n",
      "board 11 has won!\n",
      "board 40 has won!\n",
      "board 50 has won!\n",
      "board 19 has won!\n",
      "board 24 has won!\n",
      "board 80 has won!\n",
      "board 63 has won!\n",
      "board 64 has won!\n",
      "board 82 has won!\n",
      "board 85 has won!\n",
      "board 89 has won!\n",
      "board 6 has won!\n",
      "board 18 has won!\n",
      "board 29 has won!\n",
      "board 33 has won!\n",
      "board 98 has won!\n",
      "board 16 has won!\n",
      "board 23 has won!\n",
      "board 30 has won!\n",
      "board 46 has won!\n",
      "board 39 has won!\n",
      "board 47 has won!\n",
      "board 3 has won!\n",
      "board 15 has won!\n",
      "board 25 has won!\n",
      "board 41 has won!\n",
      "board 43 has won!\n",
      "board 56 has won!\n",
      "board 35 has won!\n",
      "board 44 has won!\n",
      "board 77 has won!\n",
      "board 4 has won!\n",
      "board 71 has won!\n",
      "board 84 has won!\n",
      "board 86 has won!\n",
      "board 28 has won!\n",
      "board 52 has won!\n",
      "board 7 has won!\n",
      "board 17 has won!\n",
      "board 66 has won!\n",
      "board 0 has won!\n",
      "board 59 has won!\n",
      "board 51 has won!\n",
      "board 22 has won!\n",
      "25 [-1, 34, 73, 87, 97, 62, 1, 79, 8, 9, 20, 38, 57, 83, 88, 14, 21, 58, 75, 72, 74, 65, 27, 49, 69, 10, 32, 36, 68, 26, 96, 45, 78, 91, 92, 95, 90, 5, 61, 76, 99, 12, 94, 31, 37, 48, 53, 81, 93, 13, 55, 42, 60, 54, 67, 2, 70, 11, 40, 50, 19, 24, 80, 63, 64, 82, 85, 89, 6, 18, 29, 33, 98, 16, 23, 30, 46, 39, 47, 3, 15, 25, 41, 43, 56, 35, 44, 77, 4, 71, 84, 86, 28, 52, 7, 17, 66, 0, 59, 51, 22] [[-- -- -- 89 --]\n",
      " [-- -- 78 48 --]\n",
      " [-- 38 13 -- --]\n",
      " [-- -- -- -- 17]\n",
      " [-- -- -- -- --]]\n"
     ]
    },
    {
     "data": {
      "text/plain": [
       "7075"
      ]
     },
     "execution_count": 70,
     "metadata": {},
     "output_type": "execute_result"
    }
   ],
   "source": [
    "win,winning_board,score=Bingo('input_day4.txt',let_the_squid_win=True).play_bingo()\n",
    "score"
   ]
  },
  {
   "cell_type": "markdown",
   "metadata": {},
   "source": [
    "# Day 5\n",
    "\n",
    "Each line of vents is given as a line segment in the format x1,y1 -> x2,y2 where x1,y1 are the coordinates of one end the line segment and x2,y2 are the coordinates of the other end. These line segments include the points at both ends. In other words:\n",
    "\n",
    "    An entry like 1,1 -> 1,3 covers points 1,1, 1,2, and 1,3.\n",
    "    An entry like 9,7 -> 7,7 covers points 9,7, 8,7, and 7,7.\n",
    "\n",
    "For now, only consider horizontal and vertical lines: lines where either x1 = x2 or y1 = y2.\n",
    "\n",
    "So, the horizontal and vertical lines from the above list would produce the following diagram:\n",
    "\n",
    ".......1..\n",
    "\n",
    "..1....1..\n",
    "\n",
    "..1....1..\n",
    "\n",
    ".......1..\n",
    "\n",
    ".112111211\n",
    "\n",
    "..........\n",
    "\n",
    "..........\n",
    "\n",
    "..........\n",
    "\n",
    "..........\n",
    "\n",
    "222111....\n",
    "\n",
    "In this diagram, the top left corner is 0,0 and the bottom right corner is 9,9. Each position is shown as the number of lines which cover that point or . if no line covers that point. The top-left pair of 1s, for example, comes from 2,2 -> 2,1; the very bottom row is formed by the overlapping lines 0,9 -> 5,9 and 0,9 -> 2,9.\n",
    "\n",
    "To avoid the most dangerous areas, you need to determine the number of points where at least two lines overlap. In the above example, this is anywhere in the diagram with a 2 or larger - a total of 5 points.\n",
    "\n",
    "**Consider only horizontal and vertical lines. At how many points do at least two lines overlap?**"
   ]
  },
  {
   "cell_type": "code",
   "execution_count": 71,
   "metadata": {},
   "outputs": [],
   "source": [
    "test_input=[[0,9,5,9],\n",
    "[8,0,0,8],\n",
    "[9,4,3,4],\n",
    "[2,2,2,1],\n",
    "[7,0,7,4],\n",
    "[6,4,2,0],\n",
    "[0,9,2,9],\n",
    "[3,4,1,4],\n",
    "[0,0,8,8],\n",
    "[5,5,8,2]]"
   ]
  },
  {
   "cell_type": "code",
   "execution_count": 171,
   "metadata": {},
   "outputs": [],
   "source": [
    "def overlap(input_list):\n",
    "    '''produce the diagram array'''\n",
    "    arr=np.array(input_list)\n",
    "    xmax=np.max([arr.T[0],arr.T[2]])+1\n",
    "    ymax=np.max([arr.T[1],arr.T[3]])+1\n",
    "    print(xmax,ymax)\n",
    "    diagram=np.zeros((xmax,ymax))\n",
    "    #fill diagram\n",
    "    for x1,y1,x2,y2 in input_list:\n",
    "        #print((x1,y1),(x2,y2))\n",
    "        if x1 == x2: #vertical\n",
    "            diagram[min([y1,y2]):max([y1,y2])+1,x1]+=1\n",
    "            #print(diagram)\n",
    "        elif y1==y2: #horizontal\n",
    "            diagram[y1,min([x1,x2]):max([x1,x2])+1]+=1\n",
    "            #print(diagram)\n",
    "    return diagram"
   ]
  },
  {
   "cell_type": "code",
   "execution_count": 169,
   "metadata": {},
   "outputs": [],
   "source": [
    "diagram=overlap(test_input)"
   ]
  },
  {
   "cell_type": "code",
   "execution_count": 170,
   "metadata": {},
   "outputs": [
    {
     "data": {
      "text/plain": [
       "array([[0., 0., 0., 0., 0., 0., 0., 1., 0., 0.],\n",
       "       [0., 0., 1., 0., 0., 0., 0., 1., 0., 0.],\n",
       "       [0., 0., 1., 0., 0., 0., 0., 1., 0., 0.],\n",
       "       [0., 0., 0., 0., 0., 0., 0., 1., 0., 0.],\n",
       "       [0., 1., 1., 2., 1., 1., 1., 2., 1., 1.],\n",
       "       [0., 0., 0., 0., 0., 0., 0., 0., 0., 0.],\n",
       "       [0., 0., 0., 0., 0., 0., 0., 0., 0., 0.],\n",
       "       [0., 0., 0., 0., 0., 0., 0., 0., 0., 0.],\n",
       "       [0., 0., 0., 0., 0., 0., 0., 0., 0., 0.],\n",
       "       [2., 2., 2., 1., 1., 1., 0., 0., 0., 0.]])"
      ]
     },
     "execution_count": 170,
     "metadata": {},
     "output_type": "execute_result"
    }
   ],
   "source": [
    "diagram"
   ]
  },
  {
   "cell_type": "code",
   "execution_count": 150,
   "metadata": {},
   "outputs": [
    {
     "data": {
      "text/plain": [
       "(5,)"
      ]
     },
     "execution_count": 150,
     "metadata": {},
     "output_type": "execute_result"
    }
   ],
   "source": [
    "diagram[diagram >=2].shape"
   ]
  },
  {
   "cell_type": "code",
   "execution_count": 180,
   "metadata": {},
   "outputs": [],
   "source": [
    "with open('input_day5.txt') as f:\n",
    "    lines=f.readlines()\n",
    "str_input=[]\n",
    "for l in lines:\n",
    "    str_input.append(l[:-1].split(','))\n",
    "day5_input=[[int(s) for s in line] for line in str_input]"
   ]
  },
  {
   "cell_type": "code",
   "execution_count": 181,
   "metadata": {},
   "outputs": [
    {
     "data": {
      "text/plain": [
       "[[720, 475, 720, 669], [268, 784, 595, 784]]"
      ]
     },
     "execution_count": 181,
     "metadata": {},
     "output_type": "execute_result"
    }
   ],
   "source": [
    "day5_input[:2]"
   ]
  },
  {
   "cell_type": "code",
   "execution_count": 182,
   "metadata": {},
   "outputs": [
    {
     "name": "stdout",
     "output_type": "stream",
     "text": [
      "991 991\n"
     ]
    }
   ],
   "source": [
    "diagram=overlap(day5_input)"
   ]
  },
  {
   "cell_type": "code",
   "execution_count": 183,
   "metadata": {},
   "outputs": [
    {
     "data": {
      "text/plain": [
       "(7269,)"
      ]
     },
     "execution_count": 183,
     "metadata": {},
     "output_type": "execute_result"
    }
   ],
   "source": [
    "diagram[diagram >=2].shape"
   ]
  },
  {
   "cell_type": "markdown",
   "metadata": {},
   "source": [
    "## Part 2\n",
    "\n",
    "Unfortunately, considering only horizontal and vertical lines doesn't give you the full picture; you need to also consider diagonal lines.\n",
    "\n",
    "Because of the limits of the hydrothermal vent mapping system, the lines in your list will only ever be horizontal, vertical, or a diagonal line at exactly 45 degrees. In other words:\n",
    "\n",
    "    An entry like 1,1 -> 3,3 covers points 1,1, 2,2, and 3,3.\n",
    "    An entry like 9,7 -> 7,9 covers points 9,7, 8,8, and 7,9.\n",
    "\n",
    "Considering all lines from the above example would now produce the following diagram:\n",
    "\n",
    "1.1....11.\n",
    "\n",
    ".111...2..\n",
    "\n",
    "..2.1.111.\n",
    "\n",
    "...1.2.2..\n",
    "\n",
    ".112313211\n",
    "\n",
    "...1.2....\n",
    "\n",
    "..1...1...\n",
    "\n",
    ".1.....1..\n",
    "\n",
    "1.......1.\n",
    "\n",
    "222111....\n",
    "\n",
    "You still need to determine the number of points where at least two lines overlap. In the above example, this is still anywhere in the diagram with a 2 or larger - now a total of 12 points.\n",
    "\n",
    "Consider all of the lines. At how many points do at least two lines overlap?"
   ]
  },
  {
   "cell_type": "code",
   "execution_count": 308,
   "metadata": {},
   "outputs": [],
   "source": [
    "def overlap2(input_list):\n",
    "    '''produce the diagram array'''\n",
    "    arr=np.array(input_list)\n",
    "    xmax=np.max([arr.T[0],arr.T[2]])+1\n",
    "    ymax=np.max([arr.T[1],arr.T[3]])+1\n",
    "    print(xmax,ymax)\n",
    "    diagram=np.zeros((xmax,ymax))\n",
    "    #fill diagram\n",
    "    for x1,y1,x2,y2 in input_list:\n",
    "        #print((x1,y1),(x2,y2))\n",
    "        if x1 == x2: #vertical\n",
    "            diagram[min([y1,y2]):max([y1,y2])+1,x1]+=1\n",
    "            #print(diagram)\n",
    "        elif y1==y2: #horizontal\n",
    "            diagram[y1,min([x1,x2]):max([x1,x2])+1]+=1\n",
    "            #print(diagram)\n",
    "        else: #diagonal at 45 degrees\n",
    "            #print((x1,y1),(x2,y2))\n",
    "            #change so x1 is paired with min(y1,y2)\n",
    "            if y2 < y1:\n",
    "                #print('swap')\n",
    "                x1,y1,x2,y2=x2,y2,x1,y1\n",
    "                #print((x1,y1),(x2,y2))\n",
    "            y,yend=y1,y2\n",
    "            if x1>x2: #backward diag\n",
    "                x=x1\n",
    "                minus=True\n",
    "            elif x2>x1: #backward\n",
    "                x=x1\n",
    "                minus=False\n",
    "            while y <=yend:\n",
    "                diagram[y,x]+=1\n",
    "                if minus:\n",
    "                    x-=1\n",
    "                else:\n",
    "                    x+=1\n",
    "                y+=1\n",
    "    return diagram"
   ]
  },
  {
   "cell_type": "code",
   "execution_count": 309,
   "metadata": {},
   "outputs": [
    {
     "name": "stdout",
     "output_type": "stream",
     "text": [
      "10 10\n"
     ]
    },
    {
     "data": {
      "text/plain": [
       "array([[1., 0., 1., 0., 0., 0., 0., 1., 1., 0.],\n",
       "       [0., 1., 1., 1., 0., 0., 0., 2., 0., 0.],\n",
       "       [0., 0., 2., 0., 1., 0., 1., 1., 1., 0.],\n",
       "       [0., 0., 0., 1., 0., 2., 0., 2., 0., 0.],\n",
       "       [0., 1., 1., 2., 3., 1., 3., 2., 1., 1.],\n",
       "       [0., 0., 0., 1., 0., 2., 0., 0., 0., 0.],\n",
       "       [0., 0., 1., 0., 0., 0., 1., 0., 0., 0.],\n",
       "       [0., 1., 0., 0., 0., 0., 0., 1., 0., 0.],\n",
       "       [1., 0., 0., 0., 0., 0., 0., 0., 1., 0.],\n",
       "       [2., 2., 2., 1., 1., 1., 0., 0., 0., 0.]])"
      ]
     },
     "execution_count": 309,
     "metadata": {},
     "output_type": "execute_result"
    }
   ],
   "source": [
    "diagram=overlap2(test_input)\n",
    "diagram"
   ]
  },
  {
   "cell_type": "code",
   "execution_count": 310,
   "metadata": {},
   "outputs": [
    {
     "data": {
      "text/plain": [
       "(12,)"
      ]
     },
     "execution_count": 310,
     "metadata": {},
     "output_type": "execute_result"
    }
   ],
   "source": [
    "diagram[diagram >=2].shape"
   ]
  },
  {
   "cell_type": "code",
   "execution_count": 311,
   "metadata": {},
   "outputs": [
    {
     "name": "stdout",
     "output_type": "stream",
     "text": [
      "991 991\n"
     ]
    },
    {
     "data": {
      "text/plain": [
       "(21140,)"
      ]
     },
     "execution_count": 311,
     "metadata": {},
     "output_type": "execute_result"
    }
   ],
   "source": [
    "diagram=overlap2(day5_input)\n",
    "diagram[diagram>=2].shape"
   ]
  },
  {
   "cell_type": "code",
   "execution_count": null,
   "metadata": {},
   "outputs": [],
   "source": []
  }
 ],
 "metadata": {
  "kernelspec": {
   "display_name": "Python 3",
   "language": "python",
   "name": "python3"
  },
  "language_info": {
   "codemirror_mode": {
    "name": "ipython",
    "version": 3
   },
   "file_extension": ".py",
   "mimetype": "text/x-python",
   "name": "python",
   "nbconvert_exporter": "python",
   "pygments_lexer": "ipython3",
   "version": "3.7.8"
  }
 },
 "nbformat": 4,
 "nbformat_minor": 4
}
