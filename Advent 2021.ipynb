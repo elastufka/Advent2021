{
 "cells": [
  {
   "cell_type": "code",
   "execution_count": null,
   "metadata": {},
   "outputs": [],
   "source": [
    "#imports"
   ]
  },
  {
   "cell_type": "markdown",
   "metadata": {},
   "source": [
    "## Day 1\n",
    "\n",
    "To do this, count the number of times a depth measurement increases from the previous measurement.\n",
    "\n",
    "How many measurements are larger than the previous measurement?"
   ]
  },
  {
   "cell_type": "markdown",
   "metadata": {},
   "source": [
    "### Example\n",
    "\n",
    "199 (N/A - no previous measurement)\n",
    "\n",
    "200 (increased)\n",
    "\n",
    "208 (increased)\n",
    "\n",
    "210 (increased)\n",
    "\n",
    "200 (decreased)\n",
    "\n",
    "207 (increased)\n",
    "\n",
    "240 (increased)\n",
    "\n",
    "269 (increased)\n",
    "\n",
    "260 (decreased)\n",
    "\n",
    "263 (increased)"
   ]
  },
  {
   "cell_type": "code",
   "execution_count": 1,
   "metadata": {},
   "outputs": [],
   "source": [
    "test_input=[199,200,208,210,200,207,240,269,260,263] #answer = 7"
   ]
  },
  {
   "cell_type": "code",
   "execution_count": 41,
   "metadata": {},
   "outputs": [],
   "source": [
    "test_input_df=pd.DataFrame({0:test_input})"
   ]
  },
  {
   "cell_type": "code",
   "execution_count": 21,
   "metadata": {},
   "outputs": [],
   "source": [
    "def day1_part1(input_list):\n",
    "    count=0\n",
    "    for i,item in enumerate(input_list[:-1]):\n",
    "        if input_list[i+1] > item:\n",
    "            count+=1\n",
    "    return count"
   ]
  },
  {
   "cell_type": "code",
   "execution_count": 22,
   "metadata": {},
   "outputs": [
    {
     "data": {
      "text/plain": [
       "7"
      ]
     },
     "execution_count": 22,
     "metadata": {},
     "output_type": "execute_result"
    }
   ],
   "source": [
    "day1_part1(test_input)"
   ]
  },
  {
   "cell_type": "code",
   "execution_count": 32,
   "metadata": {},
   "outputs": [],
   "source": [
    "day1_input=pd.read_csv('input_day1.txt',header=None)\n",
    "day1list=day1_input[0].to_list()"
   ]
  },
  {
   "cell_type": "code",
   "execution_count": 33,
   "metadata": {},
   "outputs": [
    {
     "data": {
      "text/plain": [
       "1393"
      ]
     },
     "execution_count": 33,
     "metadata": {},
     "output_type": "execute_result"
    }
   ],
   "source": [
    "day1_part1(day1list)"
   ]
  },
  {
   "cell_type": "markdown",
   "metadata": {},
   "source": [
    "### Part 2\n",
    "Instead, consider sums of a three-measurement sliding window.\n",
    "\n",
    "Start by comparing the first and second three-measurement windows. The measurements in the first window are marked A (199, 200, 208); their sum is 199 + 200 + 208 = 607. The second window is marked B (200, 208, 210); its sum is 618. The sum of measurements in the second window is larger than the sum of the first, so this first comparison increased.\n",
    "\n",
    "Your goal now is to count the number of times the sum of measurements in this sliding window increases from the previous sum. So, compare A with B, then compare B with C, then C with D, and so on. Stop when there aren't enough measurements left to create a new three-measurement sum."
   ]
  },
  {
   "cell_type": "code",
   "execution_count": 68,
   "metadata": {},
   "outputs": [],
   "source": [
    "def day1_part2(input_series):\n",
    "    count=0\n",
    "    threedf=input_series.rolling(3)[0].sum().to_list()[2:]\n",
    "    for i,item in enumerate(threedf[:-1]):\n",
    "        if threedf[i+1] > item:\n",
    "            count+=1\n",
    "    return count"
   ]
  },
  {
   "cell_type": "code",
   "execution_count": 69,
   "metadata": {},
   "outputs": [
    {
     "data": {
      "text/plain": [
       "5"
      ]
     },
     "execution_count": 69,
     "metadata": {},
     "output_type": "execute_result"
    }
   ],
   "source": [
    "day1_part2(test_input_df) #answer should be 5"
   ]
  },
  {
   "cell_type": "code",
   "execution_count": 70,
   "metadata": {},
   "outputs": [
    {
     "data": {
      "text/plain": [
       "1359"
      ]
     },
     "execution_count": 70,
     "metadata": {},
     "output_type": "execute_result"
    }
   ],
   "source": [
    "day1_part2(day1_input)"
   ]
  },
  {
   "cell_type": "markdown",
   "metadata": {},
   "source": [
    "# Day 2\n",
    "\n",
    "It seems like the submarine can take a series of commands like forward 1, down 2, or up 3:\n",
    "\n",
    "    forward X increases the horizontal position by X units.\n",
    "    down X increases the depth by X units.\n",
    "    up X decreases the depth by X units.\n",
    "\n",
    "Note that since you're on a submarine, down and up affect your depth, and so they have the opposite result of what you might expect.\n",
    "\n",
    "The submarine seems to already have a planned course (your puzzle input). You should probably figure out where it's going. For example:\n",
    "\n",
    "forward 5\n",
    "down 5\n",
    "forward 8\n",
    "up 3\n",
    "down 8\n",
    "forward 2\n",
    "\n",
    "Your horizontal position and depth both start at 0. The steps above would then modify them as follows:\n",
    "\n",
    "    forward 5 adds 5 to your horizontal position, a total of 5.\n",
    "    down 5 adds 5 to your depth, resulting in a value of 5.\n",
    "    forward 8 adds 8 to your horizontal position, a total of 13.\n",
    "    up 3 decreases your depth by 3, resulting in a value of 2.\n",
    "    down 8 adds 8 to your depth, resulting in a value of 10.\n",
    "    forward 2 adds 2 to your horizontal position, a total of 15.\n",
    "\n",
    "After following these instructions, you would have a horizontal position of 15 and a depth of 10. (Multiplying these together produces 150.)\n",
    "\n",
    "Calculate the horizontal position and depth you would have after following the planned course. **What do you get if you multiply your final horizontal position by your final depth?**"
   ]
  },
  {
   "cell_type": "code",
   "execution_count": 71,
   "metadata": {},
   "outputs": [],
   "source": [
    "test_input=pd.DataFrame({0:['forward','down','forward','up','down','forward'],1:[5,5,8,3,8,2]})"
   ]
  },
  {
   "cell_type": "code",
   "execution_count": 84,
   "metadata": {},
   "outputs": [],
   "source": [
    "def day2_part1(day2_input):\n",
    "    x,y=0,0\n",
    "    #direction can only be forward, up, down\n",
    "    day2_input.replace({'forward':0},inplace=True)\n",
    "    day2_input.replace({'up':-1},inplace=True)\n",
    "    day2_input.replace({'down':1},inplace=True)\n",
    "    for _,row in day2_input.iterrows():\n",
    "        if row[0] == 0:\n",
    "            x+=row[1]\n",
    "        else:\n",
    "            y+=row[0]*row[1]\n",
    "    print(x,y)\n",
    "    return x*y\n",
    "            "
   ]
  },
  {
   "cell_type": "code",
   "execution_count": 85,
   "metadata": {},
   "outputs": [
    {
     "name": "stdout",
     "output_type": "stream",
     "text": [
      "15 10\n"
     ]
    },
    {
     "data": {
      "text/plain": [
       "150"
      ]
     },
     "execution_count": 85,
     "metadata": {},
     "output_type": "execute_result"
    }
   ],
   "source": [
    "day2_part1(test_input)"
   ]
  },
  {
   "cell_type": "code",
   "execution_count": 87,
   "metadata": {},
   "outputs": [
    {
     "data": {
      "text/html": [
       "<div>\n",
       "<style scoped>\n",
       "    .dataframe tbody tr th:only-of-type {\n",
       "        vertical-align: middle;\n",
       "    }\n",
       "\n",
       "    .dataframe tbody tr th {\n",
       "        vertical-align: top;\n",
       "    }\n",
       "\n",
       "    .dataframe thead th {\n",
       "        text-align: right;\n",
       "    }\n",
       "</style>\n",
       "<table border=\"1\" class=\"dataframe\">\n",
       "  <thead>\n",
       "    <tr style=\"text-align: right;\">\n",
       "      <th></th>\n",
       "      <th>0</th>\n",
       "      <th>1</th>\n",
       "    </tr>\n",
       "  </thead>\n",
       "  <tbody>\n",
       "    <tr>\n",
       "      <th>0</th>\n",
       "      <td>forward</td>\n",
       "      <td>8</td>\n",
       "    </tr>\n",
       "    <tr>\n",
       "      <th>1</th>\n",
       "      <td>forward</td>\n",
       "      <td>9</td>\n",
       "    </tr>\n",
       "    <tr>\n",
       "      <th>2</th>\n",
       "      <td>forward</td>\n",
       "      <td>9</td>\n",
       "    </tr>\n",
       "    <tr>\n",
       "      <th>3</th>\n",
       "      <td>down</td>\n",
       "      <td>3</td>\n",
       "    </tr>\n",
       "    <tr>\n",
       "      <th>4</th>\n",
       "      <td>forward</td>\n",
       "      <td>9</td>\n",
       "    </tr>\n",
       "  </tbody>\n",
       "</table>\n",
       "</div>"
      ],
      "text/plain": [
       "         0  1\n",
       "0  forward  8\n",
       "1  forward  9\n",
       "2  forward  9\n",
       "3     down  3\n",
       "4  forward  9"
      ]
     },
     "execution_count": 87,
     "metadata": {},
     "output_type": "execute_result"
    }
   ],
   "source": [
    "day2_input=pd.read_csv('input_day2.txt',header=None,delimiter=' ')\n",
    "day2_input.head()"
   ]
  },
  {
   "cell_type": "code",
   "execution_count": 88,
   "metadata": {},
   "outputs": [
    {
     "name": "stdout",
     "output_type": "stream",
     "text": [
      "2003 872\n"
     ]
    },
    {
     "data": {
      "text/plain": [
       "1746616"
      ]
     },
     "execution_count": 88,
     "metadata": {},
     "output_type": "execute_result"
    }
   ],
   "source": [
    "day2_part1(day2_input)"
   ]
  },
  {
   "cell_type": "markdown",
   "metadata": {},
   "source": [
    "## Part 2\n",
    "\n",
    "In addition to horizontal position and depth, you'll also need to track a third value, aim, which also starts at 0. The commands also mean something entirely different than you first thought:\n",
    "\n",
    "    down X increases your aim by X units.\n",
    "    up X decreases your aim by X units.\n",
    "    forward X does two things:\n",
    "        It increases your horizontal position by X units.\n",
    "        It increases your depth by your aim multiplied by X.\n",
    "\n",
    "example: After following these new instructions, you would have a horizontal position of 15 and a depth of 60. (Multiplying these produces 900.)"
   ]
  },
  {
   "cell_type": "code",
   "execution_count": 100,
   "metadata": {},
   "outputs": [],
   "source": [
    "def day2_part2(day2_input):\n",
    "    x,y,aim=0,0,0\n",
    "    #direction can only be forward, up, down\n",
    "    day2_input.replace({'forward':0},inplace=True)\n",
    "    day2_input.replace({'up':-1},inplace=True)\n",
    "    day2_input.replace({'down':1},inplace=True)\n",
    "    for _,row in day2_input.iterrows():\n",
    "        if row[0] == 0:\n",
    "            x+=row[1]\n",
    "            y+=row[1]*aim\n",
    "        else:\n",
    "            aim+=row[0]*row[1]\n",
    "    print(x,y,aim)\n",
    "    return x*y"
   ]
  },
  {
   "cell_type": "code",
   "execution_count": 101,
   "metadata": {},
   "outputs": [
    {
     "name": "stdout",
     "output_type": "stream",
     "text": [
      "15 60 10\n"
     ]
    },
    {
     "data": {
      "text/plain": [
       "900"
      ]
     },
     "execution_count": 101,
     "metadata": {},
     "output_type": "execute_result"
    }
   ],
   "source": [
    "day2_part2(test_input)"
   ]
  },
  {
   "cell_type": "code",
   "execution_count": 102,
   "metadata": {},
   "outputs": [
    {
     "name": "stdout",
     "output_type": "stream",
     "text": [
      "2003 869681 872\n"
     ]
    },
    {
     "data": {
      "text/plain": [
       "1741971043"
      ]
     },
     "execution_count": 102,
     "metadata": {},
     "output_type": "execute_result"
    }
   ],
   "source": [
    "day2_part2(day2_input)"
   ]
  },
  {
   "cell_type": "markdown",
   "metadata": {},
   "source": [
    "# Day 3\n",
    "\n",
    "The diagnostic report (your puzzle input) consists of a list of binary numbers which, when decoded properly, can tell you many useful things about the conditions of the submarine. The first parameter to check is the power consumption.\n",
    "\n",
    "You need to use the binary numbers in the diagnostic report to generate two new binary numbers (called the gamma rate and the epsilon rate). The power consumption can then be found by multiplying the gamma rate by the epsilon rate.\n",
    "\n",
    "Each bit in the gamma rate can be determined by finding the most common bit in the corresponding position of all numbers in the diagnostic report. For example, given the following diagnostic report:\n",
    "\n",
    "00100\n",
    "11110\n",
    "10110\n",
    "10111\n",
    "10101\n",
    "01111\n",
    "00111\n",
    "11100\n",
    "10000\n",
    "11001\n",
    "00010\n",
    "01010\n",
    "\n",
    "Considering only the first bit of each number, there are five 0 bits and seven 1 bits. Since the most common bit is 1, the first bit of the gamma rate is 1.\n",
    "\n",
    "The most common second bit of the numbers in the diagnostic report is 0, so the second bit of the gamma rate is 0.\n",
    "\n",
    "The most common value of the third, fourth, and fifth bits are 1, 1, and 0, respectively, and so the final three bits of the gamma rate are 110.\n",
    "\n",
    "So, the gamma rate is the binary number 10110, or 22 in decimal.\n",
    "\n",
    "The epsilon rate is calculated in a similar way; rather than use the most common bit, the least common bit from each position is used. So, the epsilon rate is 01001, or 9 in decimal. Multiplying the gamma rate (22) by the epsilon rate (9) produces the power consumption, 198.\n",
    "\n",
    "Use the binary numbers in your diagnostic report to calculate the gamma rate and epsilon rate, then multiply them together. **What is the power consumption of the submarine?** (Be sure to represent your answer in decimal, not binary.)"
   ]
  },
  {
   "cell_type": "code",
   "execution_count": 103,
   "metadata": {},
   "outputs": [],
   "source": [
    "test_input=['00100', '11110', '10110', '10111', '10101', '01111', '00111', '11100', '10000', '11001', '00010', '01010']"
   ]
  },
  {
   "cell_type": "code",
   "execution_count": 146,
   "metadata": {},
   "outputs": [],
   "source": [
    "def day3_part1(blist,blen=5):\n",
    "    gamma,epsilon=[],[]\n",
    "    for i in range(blen):\n",
    "        g=np.argmax(np.bincount([str(b)[i] for b in blist])) #most common bit\n",
    "        gamma.append(str(g))\n",
    "        epsilon.append(str(1-g))\n",
    "    gamma_dec=int(''.join(gamma),2)\n",
    "    epsilon_dec=int(''.join(epsilon),2)\n",
    "    return gamma_dec*epsilon_dec\n"
   ]
  },
  {
   "cell_type": "code",
   "execution_count": 147,
   "metadata": {},
   "outputs": [
    {
     "data": {
      "text/plain": [
       "198"
      ]
     },
     "execution_count": 147,
     "metadata": {},
     "output_type": "execute_result"
    }
   ],
   "source": [
    "day3_part1(test_input,blen=5)"
   ]
  },
  {
   "cell_type": "code",
   "execution_count": 153,
   "metadata": {},
   "outputs": [
    {
     "data": {
      "text/plain": [
       "(12,\n",
       " ['111110110111',\n",
       "  '110011001101',\n",
       "  '110100000011',\n",
       "  '100011000101',\n",
       "  '110010010000',\n",
       "  '100110100101',\n",
       "  '111000010101',\n",
       "  '011110011001',\n",
       "  '111001110111',\n",
       "  '101001101001'])"
      ]
     },
     "execution_count": 153,
     "metadata": {},
     "output_type": "execute_result"
    }
   ],
   "source": [
    "day3_input=pd.read_csv('input_day3.txt',header=None,converters={0: lambda x: str(x)})\n",
    "day3list=day3_input[0].to_list()\n",
    "len(day3list[0]),day3list[:10]"
   ]
  },
  {
   "cell_type": "code",
   "execution_count": 154,
   "metadata": {},
   "outputs": [
    {
     "data": {
      "text/plain": [
       "2724524"
      ]
     },
     "execution_count": 154,
     "metadata": {},
     "output_type": "execute_result"
    }
   ],
   "source": [
    "day3_part1(day3list,blen=12)"
   ]
  },
  {
   "cell_type": "markdown",
   "metadata": {},
   "source": [
    "## Part 2\n",
    "\n",
    "Next, you should verify the life support rating, which can be determined by multiplying the oxygen generator rating by the CO2 scrubber rating.\n",
    "\n",
    "Both the oxygen generator rating and the CO2 scrubber rating are values that can be found in your diagnostic report - finding them is the tricky part. Both values are located using a similar process that involves filtering out values until only one remains. Before searching for either rating value, start with the full list of binary numbers from your diagnostic report and consider just the first bit of those numbers. Then:\n",
    "\n",
    "    Keep only numbers selected by the bit criteria for the type of rating value for which you are searching. Discard numbers which do not match the bit criteria.\n",
    "    If you only have one number left, stop; this is the rating value for which you are searching.\n",
    "    Otherwise, repeat the process, considering the next bit to the right.\n",
    "\n",
    "The bit criteria depends on which type of rating value you want to find:\n",
    "\n",
    "    To find oxygen generator rating, determine the most common value (0 or 1) in the current bit position, and keep only numbers with that bit in that position. If 0 and 1 are equally common, keep values with a 1 in the position being considered.\n",
    "    To find CO2 scrubber rating, determine the least common value (0 or 1) in the current bit position, and keep only numbers with that bit in that position. If 0 and 1 are equally common, keep values with a 0 in the position being considered.\n",
    "\n",
    "For example, to determine the oxygen generator rating value using the same example diagnostic report from above:\n",
    "\n",
    "    Start with all 12 numbers and consider only the first bit of each number. There are more 1 bits (7) than 0 bits (5), so keep only the 7 numbers with a 1 in the first position: 11110, 10110, 10111, 10101, 11100, 10000, and 11001.\n",
    "    Then, consider the second bit of the 7 remaining numbers: there are more 0 bits (4) than 1 bits (3), so keep only the 4 numbers with a 0 in the second position: 10110, 10111, 10101, and 10000.\n",
    "    In the third position, three of the four numbers have a 1, so keep those three: 10110, 10111, and 10101.\n",
    "    In the fourth position, two of the three numbers have a 1, so keep those two: 10110 and 10111.\n",
    "    In the fifth position, there are an equal number of 0 bits and 1 bits (one each). So, to find the oxygen generator rating, keep the number with a 1 in that position: 10111.\n",
    "    As there is only one number left, stop; the oxygen generator rating is 10111, or 23 in decimal.\n",
    "\n",
    "Then, to determine the CO2 scrubber rating value from the same example above:\n",
    "\n",
    "    Start again with all 12 numbers and consider only the first bit of each number. There are fewer 0 bits (5) than 1 bits (7), so keep only the 5 numbers with a 0 in the first position: 00100, 01111, 00111, 00010, and 01010.\n",
    "    Then, consider the second bit of the 5 remaining numbers: there are fewer 1 bits (2) than 0 bits (3), so keep only the 2 numbers with a 1 in the second position: 01111 and 01010.\n",
    "    In the third position, there are an equal number of 0 bits and 1 bits (one each). So, to find the CO2 scrubber rating, keep the number with a 0 in that position: 01010.\n",
    "    As there is only one number left, stop; the CO2 scrubber rating is 01010, or 10 in decimal.\n",
    "\n",
    "Finally, to find the life support rating, multiply the oxygen generator rating (23) by the CO2 scrubber rating (10) to get 230.\n",
    "\n",
    "Use the binary numbers in your diagnostic report to calculate the oxygen generator rating and CO2 scrubber rating, then multiply them together. What is the life support rating of the submarine? (Be sure to represent your answer in decimal, not binary.)"
   ]
  },
  {
   "cell_type": "code",
   "execution_count": 194,
   "metadata": {},
   "outputs": [],
   "source": [
    "from operator import lt, ge"
   ]
  },
  {
   "cell_type": "code",
   "execution_count": 199,
   "metadata": {},
   "outputs": [],
   "source": [
    "def filter_values(blist,i,fn=ge):\n",
    "    ones=[b for b in blist if b[i] == '1']\n",
    "    zeros=[b for b in blist if b[i] == '0']\n",
    "    if fn(len(ones),len(zeros)):\n",
    "        blist=ones\n",
    "    else: \n",
    "        blist=zeros\n",
    "    return blist\n",
    "\n",
    "def day3_part2(blist,blen=5):\n",
    "    o2=blist.copy()\n",
    "    co2=blist.copy()\n",
    "    for i in range(blen):\n",
    "        o2=filter_values(o2,i)\n",
    "        if len(o2)==1:\n",
    "            break\n",
    "    for i in range(blen):\n",
    "        co2=filter_values(co2,i,fn=lt)\n",
    "        #print(i,co2)\n",
    "        if len(co2)==1:\n",
    "            break\n",
    "    return int(o2[0],2)*int(co2[0],2)\n"
   ]
  },
  {
   "cell_type": "code",
   "execution_count": 200,
   "metadata": {},
   "outputs": [
    {
     "data": {
      "text/plain": [
       "230"
      ]
     },
     "execution_count": 200,
     "metadata": {},
     "output_type": "execute_result"
    }
   ],
   "source": [
    "day3_part2(test_input)"
   ]
  },
  {
   "cell_type": "code",
   "execution_count": 201,
   "metadata": {},
   "outputs": [
    {
     "data": {
      "text/plain": [
       "2775870"
      ]
     },
     "execution_count": 201,
     "metadata": {},
     "output_type": "execute_result"
    }
   ],
   "source": [
    "day3_part2(day3list,blen=12)"
   ]
  },
  {
   "cell_type": "markdown",
   "metadata": {},
   "source": [
    "# Day 4\n",
    "\n",
    "The submarine has a bingo subsystem to help passengers (currently, you and the giant squid) pass the time. It automatically generates a random order in which to draw numbers and a random set of boards (your puzzle input). \n",
    "After the first five numbers are drawn (7, 4, 9, 5, and 11), there are no winners, but the boards are marked as follows (shown here adjacent to each other to save space):\n",
    "\n",
    "After the next six numbers are drawn (17, 23, 2, 0, 14, and 21), there are still no winners:\n",
    "\n",
    "Finally, 24 is drawn:\n",
    "\n",
    "At this point, the third board wins because it has at least one complete row or column of marked numbers (in this case, the entire top row is marked: 14 21 17 24 4).\n",
    "\n",
    "The score of the winning board can now be calculated. Start by finding the sum of all unmarked numbers on that board; in this case, the sum is 188. Then, multiply that sum by the number that was just called when the board won, 24, to get the final score, 188 * 24 = 4512.\n",
    "\n",
    "To guarantee victory against the giant squid, figure out which board will win first. What will your final score be if you choose that board?"
   ]
  },
  {
   "cell_type": "code",
   "execution_count": 33,
   "metadata": {},
   "outputs": [],
   "source": [
    "import numpy.ma \n",
    "from numpy.ma import MaskError"
   ]
  },
  {
   "cell_type": "code",
   "execution_count": 65,
   "metadata": {},
   "outputs": [],
   "source": [
    "class Bingo():\n",
    "    def __init__(self,textfile,let_the_squid_win=False):\n",
    "        moves,boards=self.read_input(textfile)\n",
    "        self.moves=moves\n",
    "        self.boards=boards\n",
    "        self.let_the_squid_win=let_the_squid_win\n",
    "        print(len(self.boards))\n",
    "        \n",
    "    def read_input(self,textfile):\n",
    "        with open(textfile) as f:\n",
    "            lines=f.readlines()\n",
    "            moves=lines[0][:-3].split(',')\n",
    "            moves=[int(m) for m in moves]\n",
    "        nboards=(len(lines)-1)//5\n",
    "        #print(nboards)\n",
    "        df=pd.read_csv(textfile,header=None,skiprows=1)\n",
    "        boards=[df[0][i*5:5*(i+1)].values.tolist() for i in range(nboards)]\n",
    "        for i,board in enumerate(boards):\n",
    "            blist=[row.strip().replace('  ',' ').split(' ') for row in board]\n",
    "            blon=[int(b) for row in blist for b in row]\n",
    "            try:\n",
    "                barr=np.ma.array(blon,mask=np.zeros((5,5))).reshape((5,5))\n",
    "                boards[i]=barr\n",
    "            except MaskError:\n",
    "                boards=boards[:i]\n",
    "                break\n",
    "        return moves,boards\n",
    "    \n",
    "    def draw_number(self,move):\n",
    "        for i,board in enumerate(self.boards):\n",
    "            num_loc=np.where(board == move)\n",
    "            #print(num_loc[0],num_loc[1],num_loc[0].size)\n",
    "            if num_loc[0].size !=0:\n",
    "                cmask=self.boards[i].mask\n",
    "                cmask[num_loc[0],num_loc[1]] = True\n",
    "                self.boards[i].mask=cmask\n",
    "                \n",
    "    def check_win(self,wins):\n",
    "        winning_board=0\n",
    "        for i,board in enumerate(self.boards):\n",
    "            if i not in wins:\n",
    "                bmask=board.mask\n",
    "                rowsums=np.sum(bmask,axis=0)\n",
    "                colsums=np.sum(bmask,axis=1)\n",
    "                if 5 in rowsums or 5 in colsums:\n",
    "                    wins.append(i)\n",
    "                    winning_board=board\n",
    "                    if not self.let_the_squid_win:\n",
    "                        break #doesn't allow for tie\n",
    "                    else: #multiple boards can win at once\n",
    "                        print(f'board {i} has won!')\n",
    "        return wins,winning_board\n",
    "    \n",
    "    def calc_score(self,winning_move,winning_board):\n",
    "        #sum of all unwinning numbers times number of winning move\n",
    "        return winning_move*np.sum(winning_board)\n",
    "    \n",
    "    def play_bingo(self):\n",
    "        wins=[-1]\n",
    "        for move in self.moves:\n",
    "            self.draw_number(move)\n",
    "            #print(move)\n",
    "            wins,winning_board=self.check_win(wins)\n",
    "            if type(winning_board) == np.ma.masked_array and self.let_the_squid_win == False:\n",
    "                score=self.calc_score(move,winning_board)\n",
    "                break\n",
    "            elif len(np.unique(wins))==len(self.boards)+1: #or move= last_move\n",
    "                print(move,win,winning_board)\n",
    "                score=self.calc_score(move,winning_board)\n",
    "                break\n",
    "        return wins,winning_board,score"
   ]
  },
  {
   "cell_type": "code",
   "execution_count": 66,
   "metadata": {},
   "outputs": [
    {
     "name": "stdout",
     "output_type": "stream",
     "text": [
      "3\n"
     ]
    },
    {
     "data": {
      "text/plain": [
       "4512"
      ]
     },
     "execution_count": 66,
     "metadata": {},
     "output_type": "execute_result"
    }
   ],
   "source": [
    "_,_,score=Bingo('test_input_day4.txt').play_bingo()\n",
    "score"
   ]
  },
  {
   "cell_type": "code",
   "execution_count": 67,
   "metadata": {
    "scrolled": true
   },
   "outputs": [
    {
     "name": "stdout",
     "output_type": "stream",
     "text": [
      "100\n"
     ]
    },
    {
     "data": {
      "text/plain": [
       "16674"
      ]
     },
     "execution_count": 67,
     "metadata": {},
     "output_type": "execute_result"
    }
   ],
   "source": [
    "win,winning_board,score=Bingo('input_day4.txt').play_bingo()\n",
    "score"
   ]
  },
  {
   "cell_type": "markdown",
   "metadata": {},
   "source": [
    "## Part Two \n",
    "\n",
    "On the other hand, it might be wise to try a different strategy: let the giant squid win.\n",
    "\n",
    "You aren't sure how many bingo boards a giant squid could play at once, so rather than waste time counting its arms, the safe thing to do is to figure out which board will win last and choose that one. That way, no matter which boards it picks, it will win for sure.\n",
    "\n",
    "In the above example, the second board is the last to win, which happens after 13 is eventually called and its middle column is completely marked. If you were to keep playing until this point, the second board would have a sum of unmarked numbers equal to 148 for a final score of 148 * 13 = 1924.\n",
    "\n",
    "**Figure out which board will win last. Once it wins, what would its final score be?**\n"
   ]
  },
  {
   "cell_type": "code",
   "execution_count": 68,
   "metadata": {},
   "outputs": [
    {
     "name": "stdout",
     "output_type": "stream",
     "text": [
      "3\n",
      "board 2 has won!\n",
      "board 0 has won!\n",
      "board 1 has won!\n",
      "13 [-1, 34] [[3 15 -- -- 22]\n",
      " [-- 18 -- -- --]\n",
      " [19 8 -- 25 --]\n",
      " [20 -- -- -- --]\n",
      " [-- -- -- 12 6]]\n"
     ]
    },
    {
     "data": {
      "text/plain": [
       "([-1, 2, 0, 1], 1924)"
      ]
     },
     "execution_count": 68,
     "metadata": {},
     "output_type": "execute_result"
    }
   ],
   "source": [
    "win,_,score=Bingo('test_input_day4.txt',let_the_squid_win=True).play_bingo()\n",
    "win,score"
   ]
  },
  {
   "cell_type": "code",
   "execution_count": 70,
   "metadata": {
    "scrolled": true
   },
   "outputs": [
    {
     "name": "stdout",
     "output_type": "stream",
     "text": [
      "100\n",
      "board 34 has won!\n",
      "board 73 has won!\n",
      "board 87 has won!\n",
      "board 97 has won!\n",
      "board 62 has won!\n",
      "board 1 has won!\n",
      "board 79 has won!\n",
      "board 8 has won!\n",
      "board 9 has won!\n",
      "board 20 has won!\n",
      "board 38 has won!\n",
      "board 57 has won!\n",
      "board 83 has won!\n",
      "board 88 has won!\n",
      "board 14 has won!\n",
      "board 21 has won!\n",
      "board 58 has won!\n",
      "board 75 has won!\n",
      "board 72 has won!\n",
      "board 74 has won!\n",
      "board 65 has won!\n",
      "board 27 has won!\n",
      "board 49 has won!\n",
      "board 69 has won!\n",
      "board 10 has won!\n",
      "board 32 has won!\n",
      "board 36 has won!\n",
      "board 68 has won!\n",
      "board 26 has won!\n",
      "board 96 has won!\n",
      "board 45 has won!\n",
      "board 78 has won!\n",
      "board 91 has won!\n",
      "board 92 has won!\n",
      "board 95 has won!\n",
      "board 90 has won!\n",
      "board 5 has won!\n",
      "board 61 has won!\n",
      "board 76 has won!\n",
      "board 99 has won!\n",
      "board 12 has won!\n",
      "board 94 has won!\n",
      "board 31 has won!\n",
      "board 37 has won!\n",
      "board 48 has won!\n",
      "board 53 has won!\n",
      "board 81 has won!\n",
      "board 93 has won!\n",
      "board 13 has won!\n",
      "board 55 has won!\n",
      "board 42 has won!\n",
      "board 60 has won!\n",
      "board 54 has won!\n",
      "board 67 has won!\n",
      "board 2 has won!\n",
      "board 70 has won!\n",
      "board 11 has won!\n",
      "board 40 has won!\n",
      "board 50 has won!\n",
      "board 19 has won!\n",
      "board 24 has won!\n",
      "board 80 has won!\n",
      "board 63 has won!\n",
      "board 64 has won!\n",
      "board 82 has won!\n",
      "board 85 has won!\n",
      "board 89 has won!\n",
      "board 6 has won!\n",
      "board 18 has won!\n",
      "board 29 has won!\n",
      "board 33 has won!\n",
      "board 98 has won!\n",
      "board 16 has won!\n",
      "board 23 has won!\n",
      "board 30 has won!\n",
      "board 46 has won!\n",
      "board 39 has won!\n",
      "board 47 has won!\n",
      "board 3 has won!\n",
      "board 15 has won!\n",
      "board 25 has won!\n",
      "board 41 has won!\n",
      "board 43 has won!\n",
      "board 56 has won!\n",
      "board 35 has won!\n",
      "board 44 has won!\n",
      "board 77 has won!\n",
      "board 4 has won!\n",
      "board 71 has won!\n",
      "board 84 has won!\n",
      "board 86 has won!\n",
      "board 28 has won!\n",
      "board 52 has won!\n",
      "board 7 has won!\n",
      "board 17 has won!\n",
      "board 66 has won!\n",
      "board 0 has won!\n",
      "board 59 has won!\n",
      "board 51 has won!\n",
      "board 22 has won!\n",
      "25 [-1, 34, 73, 87, 97, 62, 1, 79, 8, 9, 20, 38, 57, 83, 88, 14, 21, 58, 75, 72, 74, 65, 27, 49, 69, 10, 32, 36, 68, 26, 96, 45, 78, 91, 92, 95, 90, 5, 61, 76, 99, 12, 94, 31, 37, 48, 53, 81, 93, 13, 55, 42, 60, 54, 67, 2, 70, 11, 40, 50, 19, 24, 80, 63, 64, 82, 85, 89, 6, 18, 29, 33, 98, 16, 23, 30, 46, 39, 47, 3, 15, 25, 41, 43, 56, 35, 44, 77, 4, 71, 84, 86, 28, 52, 7, 17, 66, 0, 59, 51, 22] [[-- -- -- 89 --]\n",
      " [-- -- 78 48 --]\n",
      " [-- 38 13 -- --]\n",
      " [-- -- -- -- 17]\n",
      " [-- -- -- -- --]]\n"
     ]
    },
    {
     "data": {
      "text/plain": [
       "7075"
      ]
     },
     "execution_count": 70,
     "metadata": {},
     "output_type": "execute_result"
    }
   ],
   "source": [
    "win,winning_board,score=Bingo('input_day4.txt',let_the_squid_win=True).play_bingo()\n",
    "score"
   ]
  },
  {
   "cell_type": "markdown",
   "metadata": {},
   "source": [
    "# Day 5\n",
    "\n",
    "Each line of vents is given as a line segment in the format x1,y1 -> x2,y2 where x1,y1 are the coordinates of one end the line segment and x2,y2 are the coordinates of the other end. These line segments include the points at both ends. In other words:\n",
    "\n",
    "    An entry like 1,1 -> 1,3 covers points 1,1, 1,2, and 1,3.\n",
    "    An entry like 9,7 -> 7,7 covers points 9,7, 8,7, and 7,7.\n",
    "\n",
    "For now, only consider horizontal and vertical lines: lines where either x1 = x2 or y1 = y2.\n",
    "\n",
    "So, the horizontal and vertical lines from the above list would produce the following diagram:\n",
    "\n",
    ".......1..\n",
    "\n",
    "..1....1..\n",
    "\n",
    "..1....1..\n",
    "\n",
    ".......1..\n",
    "\n",
    ".112111211\n",
    "\n",
    "..........\n",
    "\n",
    "..........\n",
    "\n",
    "..........\n",
    "\n",
    "..........\n",
    "\n",
    "222111....\n",
    "\n",
    "In this diagram, the top left corner is 0,0 and the bottom right corner is 9,9. Each position is shown as the number of lines which cover that point or . if no line covers that point. The top-left pair of 1s, for example, comes from 2,2 -> 2,1; the very bottom row is formed by the overlapping lines 0,9 -> 5,9 and 0,9 -> 2,9.\n",
    "\n",
    "To avoid the most dangerous areas, you need to determine the number of points where at least two lines overlap. In the above example, this is anywhere in the diagram with a 2 or larger - a total of 5 points.\n",
    "\n",
    "**Consider only horizontal and vertical lines. At how many points do at least two lines overlap?**"
   ]
  },
  {
   "cell_type": "code",
   "execution_count": 71,
   "metadata": {},
   "outputs": [],
   "source": [
    "test_input=[[0,9,5,9],\n",
    "[8,0,0,8],\n",
    "[9,4,3,4],\n",
    "[2,2,2,1],\n",
    "[7,0,7,4],\n",
    "[6,4,2,0],\n",
    "[0,9,2,9],\n",
    "[3,4,1,4],\n",
    "[0,0,8,8],\n",
    "[5,5,8,2]]"
   ]
  },
  {
   "cell_type": "code",
   "execution_count": 171,
   "metadata": {},
   "outputs": [],
   "source": [
    "def overlap(input_list):\n",
    "    '''produce the diagram array'''\n",
    "    arr=np.array(input_list)\n",
    "    xmax=np.max([arr.T[0],arr.T[2]])+1\n",
    "    ymax=np.max([arr.T[1],arr.T[3]])+1\n",
    "    print(xmax,ymax)\n",
    "    diagram=np.zeros((xmax,ymax))\n",
    "    #fill diagram\n",
    "    for x1,y1,x2,y2 in input_list:\n",
    "        #print((x1,y1),(x2,y2))\n",
    "        if x1 == x2: #vertical\n",
    "            diagram[min([y1,y2]):max([y1,y2])+1,x1]+=1\n",
    "            #print(diagram)\n",
    "        elif y1==y2: #horizontal\n",
    "            diagram[y1,min([x1,x2]):max([x1,x2])+1]+=1\n",
    "            #print(diagram)\n",
    "    return diagram"
   ]
  },
  {
   "cell_type": "code",
   "execution_count": 169,
   "metadata": {},
   "outputs": [],
   "source": [
    "diagram=overlap(test_input)"
   ]
  },
  {
   "cell_type": "code",
   "execution_count": 170,
   "metadata": {},
   "outputs": [
    {
     "data": {
      "text/plain": [
       "array([[0., 0., 0., 0., 0., 0., 0., 1., 0., 0.],\n",
       "       [0., 0., 1., 0., 0., 0., 0., 1., 0., 0.],\n",
       "       [0., 0., 1., 0., 0., 0., 0., 1., 0., 0.],\n",
       "       [0., 0., 0., 0., 0., 0., 0., 1., 0., 0.],\n",
       "       [0., 1., 1., 2., 1., 1., 1., 2., 1., 1.],\n",
       "       [0., 0., 0., 0., 0., 0., 0., 0., 0., 0.],\n",
       "       [0., 0., 0., 0., 0., 0., 0., 0., 0., 0.],\n",
       "       [0., 0., 0., 0., 0., 0., 0., 0., 0., 0.],\n",
       "       [0., 0., 0., 0., 0., 0., 0., 0., 0., 0.],\n",
       "       [2., 2., 2., 1., 1., 1., 0., 0., 0., 0.]])"
      ]
     },
     "execution_count": 170,
     "metadata": {},
     "output_type": "execute_result"
    }
   ],
   "source": [
    "diagram"
   ]
  },
  {
   "cell_type": "code",
   "execution_count": 150,
   "metadata": {},
   "outputs": [
    {
     "data": {
      "text/plain": [
       "(5,)"
      ]
     },
     "execution_count": 150,
     "metadata": {},
     "output_type": "execute_result"
    }
   ],
   "source": [
    "diagram[diagram >=2].shape"
   ]
  },
  {
   "cell_type": "code",
   "execution_count": 180,
   "metadata": {},
   "outputs": [],
   "source": [
    "with open('input_day5.txt') as f:\n",
    "    lines=f.readlines()\n",
    "str_input=[]\n",
    "for l in lines:\n",
    "    str_input.append(l[:-1].split(','))\n",
    "day5_input=[[int(s) for s in line] for line in str_input]"
   ]
  },
  {
   "cell_type": "code",
   "execution_count": 181,
   "metadata": {},
   "outputs": [
    {
     "data": {
      "text/plain": [
       "[[720, 475, 720, 669], [268, 784, 595, 784]]"
      ]
     },
     "execution_count": 181,
     "metadata": {},
     "output_type": "execute_result"
    }
   ],
   "source": [
    "day5_input[:2]"
   ]
  },
  {
   "cell_type": "code",
   "execution_count": 182,
   "metadata": {},
   "outputs": [
    {
     "name": "stdout",
     "output_type": "stream",
     "text": [
      "991 991\n"
     ]
    }
   ],
   "source": [
    "diagram=overlap(day5_input)"
   ]
  },
  {
   "cell_type": "code",
   "execution_count": 183,
   "metadata": {},
   "outputs": [
    {
     "data": {
      "text/plain": [
       "(7269,)"
      ]
     },
     "execution_count": 183,
     "metadata": {},
     "output_type": "execute_result"
    }
   ],
   "source": [
    "diagram[diagram >=2].shape"
   ]
  },
  {
   "cell_type": "markdown",
   "metadata": {},
   "source": [
    "## Part 2\n",
    "\n",
    "Unfortunately, considering only horizontal and vertical lines doesn't give you the full picture; you need to also consider diagonal lines.\n",
    "\n",
    "Because of the limits of the hydrothermal vent mapping system, the lines in your list will only ever be horizontal, vertical, or a diagonal line at exactly 45 degrees. In other words:\n",
    "\n",
    "    An entry like 1,1 -> 3,3 covers points 1,1, 2,2, and 3,3.\n",
    "    An entry like 9,7 -> 7,9 covers points 9,7, 8,8, and 7,9.\n",
    "\n",
    "Considering all lines from the above example would now produce the following diagram:\n",
    "\n",
    "1.1....11.\n",
    "\n",
    ".111...2..\n",
    "\n",
    "..2.1.111.\n",
    "\n",
    "...1.2.2..\n",
    "\n",
    ".112313211\n",
    "\n",
    "...1.2....\n",
    "\n",
    "..1...1...\n",
    "\n",
    ".1.....1..\n",
    "\n",
    "1.......1.\n",
    "\n",
    "222111....\n",
    "\n",
    "You still need to determine the number of points where at least two lines overlap. In the above example, this is still anywhere in the diagram with a 2 or larger - now a total of 12 points.\n",
    "\n",
    "Consider all of the lines. At how many points do at least two lines overlap?"
   ]
  },
  {
   "cell_type": "code",
   "execution_count": 308,
   "metadata": {},
   "outputs": [],
   "source": [
    "def overlap2(input_list):\n",
    "    '''produce the diagram array'''\n",
    "    arr=np.array(input_list)\n",
    "    xmax=np.max([arr.T[0],arr.T[2]])+1\n",
    "    ymax=np.max([arr.T[1],arr.T[3]])+1\n",
    "    print(xmax,ymax)\n",
    "    diagram=np.zeros((xmax,ymax))\n",
    "    #fill diagram\n",
    "    for x1,y1,x2,y2 in input_list:\n",
    "        #print((x1,y1),(x2,y2))\n",
    "        if x1 == x2: #vertical\n",
    "            diagram[min([y1,y2]):max([y1,y2])+1,x1]+=1\n",
    "            #print(diagram)\n",
    "        elif y1==y2: #horizontal\n",
    "            diagram[y1,min([x1,x2]):max([x1,x2])+1]+=1\n",
    "            #print(diagram)\n",
    "        else: #diagonal at 45 degrees\n",
    "            #print((x1,y1),(x2,y2))\n",
    "            #change so x1 is paired with min(y1,y2)\n",
    "            if y2 < y1:\n",
    "                #print('swap')\n",
    "                x1,y1,x2,y2=x2,y2,x1,y1\n",
    "                #print((x1,y1),(x2,y2))\n",
    "            y,yend=y1,y2\n",
    "            if x1>x2: #backward diag\n",
    "                x=x1\n",
    "                minus=True\n",
    "            elif x2>x1: #backward\n",
    "                x=x1\n",
    "                minus=False\n",
    "            while y <=yend:\n",
    "                diagram[y,x]+=1\n",
    "                if minus:\n",
    "                    x-=1\n",
    "                else:\n",
    "                    x+=1\n",
    "                y+=1\n",
    "    return diagram"
   ]
  },
  {
   "cell_type": "code",
   "execution_count": 309,
   "metadata": {},
   "outputs": [
    {
     "name": "stdout",
     "output_type": "stream",
     "text": [
      "10 10\n"
     ]
    },
    {
     "data": {
      "text/plain": [
       "array([[1., 0., 1., 0., 0., 0., 0., 1., 1., 0.],\n",
       "       [0., 1., 1., 1., 0., 0., 0., 2., 0., 0.],\n",
       "       [0., 0., 2., 0., 1., 0., 1., 1., 1., 0.],\n",
       "       [0., 0., 0., 1., 0., 2., 0., 2., 0., 0.],\n",
       "       [0., 1., 1., 2., 3., 1., 3., 2., 1., 1.],\n",
       "       [0., 0., 0., 1., 0., 2., 0., 0., 0., 0.],\n",
       "       [0., 0., 1., 0., 0., 0., 1., 0., 0., 0.],\n",
       "       [0., 1., 0., 0., 0., 0., 0., 1., 0., 0.],\n",
       "       [1., 0., 0., 0., 0., 0., 0., 0., 1., 0.],\n",
       "       [2., 2., 2., 1., 1., 1., 0., 0., 0., 0.]])"
      ]
     },
     "execution_count": 309,
     "metadata": {},
     "output_type": "execute_result"
    }
   ],
   "source": [
    "diagram=overlap2(test_input)\n",
    "diagram"
   ]
  },
  {
   "cell_type": "code",
   "execution_count": 310,
   "metadata": {},
   "outputs": [
    {
     "data": {
      "text/plain": [
       "(12,)"
      ]
     },
     "execution_count": 310,
     "metadata": {},
     "output_type": "execute_result"
    }
   ],
   "source": [
    "diagram[diagram >=2].shape"
   ]
  },
  {
   "cell_type": "code",
   "execution_count": 311,
   "metadata": {},
   "outputs": [
    {
     "name": "stdout",
     "output_type": "stream",
     "text": [
      "991 991\n"
     ]
    },
    {
     "data": {
      "text/plain": [
       "(21140,)"
      ]
     },
     "execution_count": 311,
     "metadata": {},
     "output_type": "execute_result"
    }
   ],
   "source": [
    "diagram=overlap2(day5_input)\n",
    "diagram[diagram>=2].shape"
   ]
  },
  {
   "cell_type": "markdown",
   "metadata": {},
   "source": [
    "# Day 6\n",
    "\n",
    "So, suppose you have a lanternfish with an internal timer value of 3:\n",
    "\n",
    "    After one day, its internal timer would become 2.\n",
    "    After another day, its internal timer would become 1.\n",
    "    After another day, its internal timer would become 0.\n",
    "    After another day, its internal timer would reset to 6, and it would create a new lanternfish with an internal timer of 8.\n",
    "    After another day, the first lanternfish would have an internal timer of 5, and the second lanternfish would have an internal timer of 7.\n",
    "\n",
    "A lanternfish that creates a new fish resets its timer to 6, not 7 (because 0 is included as a valid timer value). The new lanternfish starts with an internal timer of 8 and does not start counting down until the next day.\n",
    "\n",
    "Realizing what you're trying to do, the submarine automatically produces a list of the ages of several hundred nearby lanternfish (your puzzle input). For example, suppose you were given the following list:\n",
    "\n",
    "3,4,3,1,2\n",
    "\n",
    "This list means that the first fish has an internal timer of 3, the second fish has an internal timer of 4, and so on until the fifth fish, which has an internal timer of 2. Simulating these fish over several days would proceed as follows:\n",
    "\n",
    "Initial state: 3,4,3,1,2\n",
    "\n",
    "After  1 day:  2,3,2,0,1\n",
    "\n",
    "After  2 days: 1,2,1,6,0,8\n",
    "\n",
    "After  3 days: 0,1,0,5,6,7,8\n",
    "\n",
    "After  4 days: 6,0,6,4,5,6,7,8,8\n",
    "\n",
    "After  5 days: 5,6,5,3,4,5,6,7,7,8\n",
    "\n",
    "After  6 days: 4,5,4,2,3,4,5,6,6,7\n",
    "\n",
    "After  7 days: 3,4,3,1,2,3,4,5,5,6\n",
    "\n",
    "After  8 days: 2,3,2,0,1,2,3,4,4,5\n",
    "\n",
    "After  9 days: 1,2,1,6,0,1,2,3,3,4,8\n",
    "\n",
    "After 10 days: 0,1,0,5,6,0,1,2,2,3,7,8\n",
    "\n",
    "After 11 days: 6,0,6,4,5,6,0,1,1,2,6,7,8,8,8\n",
    "\n",
    "After 12 days: 5,6,5,3,4,5,6,0,0,1,5,6,7,7,7,8,8\n",
    "\n",
    "After 13 days: 4,5,4,2,3,4,5,6,6,0,4,5,6,6,6,7,7,8,8\n",
    "\n",
    "After 14 days: 3,4,3,1,2,3,4,5,5,6,3,4,5,5,5,6,6,7,7,8\n",
    "\n",
    "After 15 days: 2,3,2,0,1,2,3,4,4,5,2,3,4,4,4,5,5,6,6,7\n",
    "\n",
    "After 16 days: 1,2,1,6,0,1,2,3,3,4,1,2,3,3,3,4,4,5,5,6,8\n",
    "\n",
    "After 17 days: 0,1,0,5,6,0,1,2,2,3,0,1,2,2,2,3,3,4,4,5,7,8\n",
    "\n",
    "After 18 days: 6,0,6,4,5,6,0,1,1,2,6,0,1,1,1,2,2,3,3,4,6,7,8,8,8,8\n",
    "\n",
    "Each day, a 0 becomes a 6 and adds a new 8 to the end of the list, while each other number decreases by 1 if it was present at the start of the day.\n",
    "\n",
    "In this example, after 18 days, there are a total of 26 fish. After 80 days, there would be a total of 5934.\n",
    "\n",
    "Find a way to simulate lanternfish. How many lanternfish would there be after 80 days?"
   ]
  },
  {
   "cell_type": "code",
   "execution_count": 420,
   "metadata": {},
   "outputs": [],
   "source": [
    "class Lanternfish:\n",
    "    def __init__(self,internal_timer=3):\n",
    "        self.state=internal_timer\n",
    "        self.ncycles=0\n",
    "        \n",
    "    def countdown(self):\n",
    "        if self.state == 0:\n",
    "            self.ncycles +=1\n",
    "            self.state = 6\n",
    "        else:\n",
    "            self.state -=1\n",
    "        return self.state\n",
    "        \n",
    "def fish_sim(initial_state, days):\n",
    "    fish=[Lanternfish(internal_timer=s) for s in initial_state]\n",
    "    for d in range(days):\n",
    "        fish_state=[f.countdown() for f in fish]\n",
    "        #if there's a six, append an 8 at the end\n",
    "        n_spawned=np.where(np.array(fish_state) == 0)[0].size\n",
    "        #print(n_spawned)\n",
    "        for n in range(n_spawned):\n",
    "            fish.append(Lanternfish(internal_timer=9)) #plus one because countdown shouldn't begin when it spawns\n",
    "        #print(fish_state,len(fish))\n",
    "    return fish_state, len(fish)-n_spawned #since I initialize them early...\n",
    "        "
   ]
  },
  {
   "cell_type": "code",
   "execution_count": 10,
   "metadata": {},
   "outputs": [],
   "source": [
    "test_initial_state=[3,4,3,1,2]"
   ]
  },
  {
   "cell_type": "code",
   "execution_count": 462,
   "metadata": {
    "scrolled": true
   },
   "outputs": [
    {
     "name": "stdout",
     "output_type": "stream",
     "text": [
      "CPU times: user 30.8 ms, sys: 4.03 ms, total: 34.8 ms\n",
      "Wall time: 33.8 ms\n"
     ]
    },
    {
     "data": {
      "text/plain": [
       "5934"
      ]
     },
     "execution_count": 462,
     "metadata": {},
     "output_type": "execute_result"
    }
   ],
   "source": [
    "%time states,nfish=fish_sim(test_initial_state,80)\n",
    "nfish"
   ]
  },
  {
   "cell_type": "code",
   "execution_count": 33,
   "metadata": {},
   "outputs": [],
   "source": [
    "full_input=[1,4,3,3,1,3,1,1,1,2,1,1,1,4,4,1,5,5,3,1,3,5,2,1,5,2,4,1,4,5,4,1,5,1,5,5,1,1,1,4,1,5,1,1,1,1,1,4,1,2,5,1,4,1,2,1,1,5,1,1,1,1,4,1,5,1,1,2,1,4,5,1,2,1,2,2,1,1,1,1,1,5,5,3,1,1,1,1,1,4,2,4,1,2,1,4,2,3,1,4,5,3,3,2,1,1,5,4,1,1,1,2,1,1,5,4,5,1,3,1,1,1,1,1,1,2,1,3,1,2,1,1,1,1,1,1,1,2,1,1,1,1,2,1,1,1,1,1,1,4,5,1,3,1,4,4,2,3,4,1,1,1,5,1,1,1,4,1,5,4,3,1,5,1,1,1,1,1,5,4,1,1,1,4,3,1,3,3,1,3,2,1,1,3,1,1,4,5,1,1,1,1,1,3,1,4,1,3,1,5,4,5,1,1,5,1,1,4,1,1,1,3,1,1,4,2,3,1,1,1,1,2,4,1,1,1,1,1,2,3,1,5,5,1,4,1,1,1,1,3,3,1,4,1,2,1,3,1,1,1,3,2,2,1,5,1,1,3,2,1,1,5,1,1,1,1,1,1,1,1,1,1,2,5,1,1,1,1,3,1,1,1,1,1,1,1,1,5,5,1\n",
    "]"
   ]
  },
  {
   "cell_type": "code",
   "execution_count": 463,
   "metadata": {},
   "outputs": [
    {
     "name": "stdout",
     "output_type": "stream",
     "text": [
      "CPU times: user 1.73 s, sys: 86.5 ms, total: 1.82 s\n",
      "Wall time: 1.84 s\n"
     ]
    },
    {
     "data": {
      "text/plain": [
       "379114"
      ]
     },
     "execution_count": 463,
     "metadata": {},
     "output_type": "execute_result"
    }
   ],
   "source": [
    "%time states,nfish=fish_sim(full_input,80)\n",
    "nfish"
   ]
  },
  {
   "cell_type": "markdown",
   "metadata": {},
   "source": [
    "## Part 2\n",
    "\n",
    "Suppose the lanternfish live forever and have unlimited food and space. Would they take over the entire ocean?\n",
    "\n",
    "After 256 days in the example above, there would be a total of 26984457539 lanternfish!"
   ]
  },
  {
   "cell_type": "code",
   "execution_count": 40,
   "metadata": {},
   "outputs": [],
   "source": [
    "# okay my slow code will definitely hurt me here... forget objects, let's use arrays\n",
    "def fast_fish_sim(initial_state, days=18):\n",
    "    states=[0 for i in range (9)] #every possible state\n",
    "    for i in initial_state:\n",
    "        states[i]+=1\n",
    "    for i in range(days):\n",
    "        n_spawned=states.pop(0) #remove zeros\n",
    "        states.append(n_spawned)\n",
    "        states[6]+=n_spawned #zeros become 6's\n",
    "    return sum(states)\n",
    "        "
   ]
  },
  {
   "cell_type": "code",
   "execution_count": 41,
   "metadata": {},
   "outputs": [
    {
     "name": "stdout",
     "output_type": "stream",
     "text": [
      "CPU times: user 88 µs, sys: 0 ns, total: 88 µs\n",
      "Wall time: 88.7 µs\n"
     ]
    },
    {
     "data": {
      "text/plain": [
       "1702631502303"
      ]
     },
     "execution_count": 41,
     "metadata": {},
     "output_type": "execute_result"
    }
   ],
   "source": [
    "%time fast_fish_sim(full_input,256)"
   ]
  },
  {
   "cell_type": "markdown",
   "metadata": {},
   "source": [
    "# Day 7\n",
    "\n",
    "There's one major catch - crab submarines can only move horizontally.\n",
    "\n",
    "You quickly make a list of the horizontal position of each crab (your puzzle input). Crab submarines have limited fuel, so you need to find a way to make all of their horizontal positions match while requiring them to spend as little fuel as possible.\n",
    "\n",
    "For example, consider the following horizontal positions:\n",
    "\n",
    "16,1,2,0,4,2,7,1,2,14\n",
    "\n",
    "This means there's a crab with horizontal position 16, a crab with horizontal position 1, and so on.\n",
    "\n",
    "Each change of 1 step in horizontal position of a single crab costs 1 fuel. You could choose any horizontal position to align them all on, but the one that costs the least fuel is horizontal position 2:\n",
    "\n",
    "    Move from 16 to 2: 14 fuel\n",
    "    Move from 1 to 2: 1 fuel\n",
    "    Move from 2 to 2: 0 fuel\n",
    "    Move from 0 to 2: 2 fuel\n",
    "    Move from 4 to 2: 2 fuel\n",
    "    Move from 2 to 2: 0 fuel\n",
    "    Move from 7 to 2: 5 fuel\n",
    "    Move from 1 to 2: 1 fuel\n",
    "    Move from 2 to 2: 0 fuel\n",
    "    Move from 14 to 2: 12 fuel\n",
    "\n",
    "This costs a total of 37 fuel. This is the cheapest possible outcome; more expensive outcomes include aligning at position 1 (41 fuel), position 3 (39 fuel), or position 10 (71 fuel).\n",
    "\n",
    "Determine the horizontal position that the crabs can align to using the least fuel possible. **How much fuel must they spend to align to that position?**"
   ]
  },
  {
   "cell_type": "code",
   "execution_count": 1,
   "metadata": {},
   "outputs": [],
   "source": [
    "test_input=[16,1,2,0,4,2,7,1,2,14]"
   ]
  },
  {
   "cell_type": "code",
   "execution_count": 18,
   "metadata": {},
   "outputs": [],
   "source": [
    "def optimize_fuel(initial_positions):\n",
    "    #the answer is literally just the median\n",
    "    initial_guess=np.round(np.median(initial_positions),0)\n",
    "    least_cost=np.sum(np.abs(initial_positions-initial_guess))\n",
    "    return least_cost,initial_guess"
   ]
  },
  {
   "cell_type": "code",
   "execution_count": 3,
   "metadata": {},
   "outputs": [],
   "source": [
    "full_input=[1101,1,29,67,1102,0,1,65,1008,65,35,66,1005,66,28,1,67,65,20,4,0,1001,65,1,65,1106,0,8,99,35,67,101,99,105,32,110,39,101,115,116,32,112,97,115,32,117,110,101,32,105,110,116,99,111,100,101,32,112,114,111,103,114,97,109,10,322,659,689,304,1706,69,576,110,238,904,299,206,78,954,776,590,404,125,235,438,472,187,205,620,14,378,1056,496,1323,59,44,636,432,658,30,195,107,425,105,214,908,145,641,1467,441,346,455,1454,773,146,97,42,509,8,1217,503,901,1147,1654,45,1438,503,62,851,590,105,217,44,646,197,491,333,1224,90,262,1132,1499,864,128,165,36,646,422,1265,501,414,328,170,1566,115,1049,154,224,490,1018,1019,1484,315,614,816,207,240,423,132,196,484,532,857,341,723,69,294,787,1020,691,185,525,697,1435,62,156,21,314,489,640,93,415,446,902,15,510,91,104,317,971,108,187,616,794,416,1332,499,1086,443,514,258,383,162,1034,1,331,269,283,1835,150,1698,1020,318,1540,687,17,889,585,1682,67,547,1,1353,149,1650,145,13,151,1144,409,294,740,676,267,827,1624,804,44,795,297,265,426,508,11,1359,963,277,203,1093,450,1229,287,160,1913,914,512,1098,103,975,64,26,787,87,104,340,362,153,173,93,455,89,577,40,1459,320,398,1245,12,452,515,594,0,1497,1238,88,14,538,431,0,699,1033,483,574,593,612,770,1006,332,23,753,1334,536,109,164,250,86,333,1577,896,1199,521,73,467,1037,0,539,375,1243,238,301,262,191,415,88,515,1410,54,1019,934,81,1273,78,306,57,145,472,57,682,203,63,512,427,104,457,214,197,1766,350,355,536,839,7,586,1209,71,88,858,562,64,335,84,1161,1305,1203,102,52,193,47,852,718,885,146,111,1014,667,8,52,637,254,1453,674,1542,47,107,55,321,591,829,1113,40,215,398,254,327,181,200,20,129,265,109,705,1265,12,148,367,349,333,341,272,90,166,699,681,1927,1267,86,282,299,36,48,1594,110,645,569,724,199,334,239,117,448,108,67,1257,142,902,208,728,700,107,1,621,1036,1397,837,313,380,208,156,39,220,238,648,197,26,2,1010,98,458,271,1237,99,751,31,236,26,622,802,4,121,244,240,67,462,1181,100,1381,1494,446,23,35,95,357,212,90,820,56,96,171,11,1101,1020,149,125,1504,896,25,8,1704,193,421,134,135,1397,1052,1059,741,967,1537,373,585,279,46,398,654,305,435,89,11,702,27,102,573,497,139,530,805,3,122,1329,175,134,137,57,516,790,587,163,296,153,1124,1336,946,63,39,278,13,253,237,653,200,250,1067,1891,697,182,628,0,60,303,389,1821,189,295,41,619,71,795,1228,110,1198,306,941,59,72,666,610,850,984,564,330,636,111,1541,542,80,212,927,127,427,33,365,313,697,200,286,708,478,264,448,1159,256,28,273,7,238,176,956,735,264,361,1882,139,1345,1,271,508,0,190,110,119,76,715,1338,80,1026,132,286,966,337,1715,514,328,265,63,1376,1413,1421,457,66,1594,737,59,548,184,801,165,96,129,1200,50,604,1013,309,627,625,597,1012,77,670,177,264,115,174,109,148,270,24,346,33,1270,359,954,113,207,484,1756,1155,1067,991,1358,61,530,612,135,351,706,244,489,609,484,76,168,258,161,694,1019,1502,558,117,112,1041,1040,448,879,37,616,930,32,357,1650,231,458,1068,585,9,439,412,292,116,494,246,28,260,463,200,84,1106,750,667,1284,129,878,1077,453,960,409,1327,412,243,89,616,443,256,645,1083,526,95,818,9,59,76,541,312,1168,430,64,2,187,561,1322,369,1245,64,854,126,359,240,42,157,35,232,863,74,331,250,695,914,182,208,94,656,87,530,1444,163,429,46,299,1038,38,471,91,112,819,1644,244,1718,76,806,103,752,124,796,1183,15,829,1038,6,529,913,140,326,435,44,617,659,123,753,444,467,408,182,1387,202,684,60,55,26,155,902,1075,86,375,924,862,150,1230,700,143,417,156,933,872,639,1032,137,146,1649,1562,4,11,257,556,29,1440,177,935,741,492,300,1530,92,453,56,244,37,997,762,624,456,1182,845,150,367,393,334,338,100,278,1374,267,1261,25,106,332,25,2,14,123,288,600,880,838,323,183,1075,202,445,218,1538,73,300,555,322,587,7,606,753,676,28,57,557,1283,23,73,31,370,29,491,5,31,97,199,188,1088,276,1061,1043,42,1463,601,56,255,426,150,1451,562,0,408,7,701,111,1145,838,976,310,561,645,33,213,1020,73,81,849,2,586,825,183,2,704,59,1515,906,647,91,585,14,778,333,258,353,128,839,146,81,231,128,716,699,64,345,812,906,1180,286,243,295,1031,197,1392]"
   ]
  },
  {
   "cell_type": "code",
   "execution_count": 19,
   "metadata": {},
   "outputs": [
    {
     "data": {
      "text/plain": [
       "(349769.0, 331.0)"
      ]
     },
     "execution_count": 19,
     "metadata": {},
     "output_type": "execute_result"
    }
   ],
   "source": [
    "optimize_fuel(full_input)"
   ]
  },
  {
   "cell_type": "markdown",
   "metadata": {},
   "source": [
    "## Part 2\n",
    "\n",
    "As it turns out, crab submarine engines don't burn fuel at a constant rate. Instead, each change of 1 step in horizontal position costs 1 more unit of fuel than the last: the first step costs 1, the second step costs 2, the third step costs 3, and so on.\n",
    "\n",
    "As each crab moves, moving further becomes more expensive. This changes the best horizontal position to align them all on; in the example above, this becomes 5:\n",
    "\n",
    "    Move from 16 to 5: 66 fuel\n",
    "    Move from 1 to 5: 10 fuel\n",
    "    Move from 2 to 5: 6 fuel\n",
    "    Move from 0 to 5: 15 fuel\n",
    "    Move from 4 to 5: 1 fuel\n",
    "    Move from 2 to 5: 6 fuel\n",
    "    Move from 7 to 5: 3 fuel\n",
    "    Move from 1 to 5: 10 fuel\n",
    "    Move from 2 to 5: 6 fuel\n",
    "    Move from 14 to 5: 45 fuel\n",
    "\n",
    "This costs a total of 168 fuel. This is the new cheapest possible outcome; the old alignment position (2) now costs 206 fuel instead.\n",
    "\n",
    "Determine the horizontal position that the crabs can align to using the least fuel possible so they can make you an escape route! How much fuel must they spend to align to that position?"
   ]
  },
  {
   "cell_type": "code",
   "execution_count": 15,
   "metadata": {},
   "outputs": [],
   "source": [
    "def optimize_fuel2(initial_positions):\n",
    "    initial_guess=np.round(np.mean(initial_positions),0) #makes sense for mean to be initial guess now\n",
    "    #in fact it is probably the solution yay math\n",
    "    guess=initial_guess\n",
    "    least_cost=np.sum([np.sum(range(int(np.abs(p-guess))+1)) for p in initial_positions])\n",
    "    #print(initial_guess,least_cost,[np.sum(range(int(np.abs(p-guess))+1)) for p in initial_positions])\n",
    "    for i in range(int(initial_guess)-10,int(initial_guess)+10):\n",
    "        cost=np.sum([np.sum(range(int(np.abs(p-i))+1)) for p in initial_positions])\n",
    "        if cost < least_cost:\n",
    "            least_cost=cost\n",
    "            guess=i\n",
    "    return least_cost,guess"
   ]
  },
  {
   "cell_type": "code",
   "execution_count": 16,
   "metadata": {},
   "outputs": [
    {
     "data": {
      "text/plain": [
       "(168, 5.0)"
      ]
     },
     "execution_count": 16,
     "metadata": {},
     "output_type": "execute_result"
    }
   ],
   "source": [
    "optimize_fuel2(test_input)"
   ]
  },
  {
   "cell_type": "code",
   "execution_count": 17,
   "metadata": {},
   "outputs": [
    {
     "data": {
      "text/plain": [
       "(99540554, 479)"
      ]
     },
     "execution_count": 17,
     "metadata": {},
     "output_type": "execute_result"
    }
   ],
   "source": [
    "optimize_fuel2(full_input)"
   ]
  },
  {
   "cell_type": "markdown",
   "metadata": {},
   "source": [
    "# Day 8"
   ]
  },
  {
   "cell_type": "code",
   "execution_count": 42,
   "metadata": {},
   "outputs": [],
   "source": [
    "key=['abcefg','cf','acdeg','acdfg','bcdf','abdfg','abdefg','acf','abcdefg','abcdfg']\n",
    "lens=[len(k) for k in key]"
   ]
  },
  {
   "cell_type": "code",
   "execution_count": 73,
   "metadata": {},
   "outputs": [
    {
     "data": {
      "text/html": [
       "<div>\n",
       "<style scoped>\n",
       "    .dataframe tbody tr th:only-of-type {\n",
       "        vertical-align: middle;\n",
       "    }\n",
       "\n",
       "    .dataframe tbody tr th {\n",
       "        vertical-align: top;\n",
       "    }\n",
       "\n",
       "    .dataframe thead th {\n",
       "        text-align: right;\n",
       "    }\n",
       "</style>\n",
       "<table border=\"1\" class=\"dataframe\">\n",
       "  <thead>\n",
       "    <tr style=\"text-align: right;\">\n",
       "      <th></th>\n",
       "      <th>key</th>\n",
       "      <th>length</th>\n",
       "    </tr>\n",
       "  </thead>\n",
       "  <tbody>\n",
       "    <tr>\n",
       "      <th>1</th>\n",
       "      <td>cf</td>\n",
       "      <td>2</td>\n",
       "    </tr>\n",
       "    <tr>\n",
       "      <th>7</th>\n",
       "      <td>acf</td>\n",
       "      <td>3</td>\n",
       "    </tr>\n",
       "    <tr>\n",
       "      <th>4</th>\n",
       "      <td>bcdf</td>\n",
       "      <td>4</td>\n",
       "    </tr>\n",
       "    <tr>\n",
       "      <th>2</th>\n",
       "      <td>acdeg</td>\n",
       "      <td>5</td>\n",
       "    </tr>\n",
       "    <tr>\n",
       "      <th>3</th>\n",
       "      <td>acdfg</td>\n",
       "      <td>5</td>\n",
       "    </tr>\n",
       "    <tr>\n",
       "      <th>5</th>\n",
       "      <td>abdfg</td>\n",
       "      <td>5</td>\n",
       "    </tr>\n",
       "    <tr>\n",
       "      <th>0</th>\n",
       "      <td>abcefg</td>\n",
       "      <td>6</td>\n",
       "    </tr>\n",
       "    <tr>\n",
       "      <th>6</th>\n",
       "      <td>abdefg</td>\n",
       "      <td>6</td>\n",
       "    </tr>\n",
       "    <tr>\n",
       "      <th>9</th>\n",
       "      <td>abcdfg</td>\n",
       "      <td>6</td>\n",
       "    </tr>\n",
       "    <tr>\n",
       "      <th>8</th>\n",
       "      <td>abcdefg</td>\n",
       "      <td>7</td>\n",
       "    </tr>\n",
       "  </tbody>\n",
       "</table>\n",
       "</div>"
      ],
      "text/plain": [
       "       key  length\n",
       "1       cf       2\n",
       "7      acf       3\n",
       "4     bcdf       4\n",
       "2    acdeg       5\n",
       "3    acdfg       5\n",
       "5    abdfg       5\n",
       "0   abcefg       6\n",
       "6   abdefg       6\n",
       "9   abcdfg       6\n",
       "8  abcdefg       7"
      ]
     },
     "execution_count": 73,
     "metadata": {},
     "output_type": "execute_result"
    }
   ],
   "source": [
    "df=pd.DataFrame({'key':key,'length':lens})\n",
    "df.sort_values(by='length').head(10)"
   ]
  },
  {
   "cell_type": "code",
   "execution_count": 403,
   "metadata": {},
   "outputs": [],
   "source": [
    "test_input=['be cfbegad cbdgef fgaecd cgeb fdcge agebfd fecdb fabcd edb | fdgacbe cefdb cefbgd gcbe'\n",
    ",'edbfga begcd cbg gc gcadebf fbgde acbgfd abcde gfcbed gfec | fcgedb cgb dgebacf gc',\n",
    "'fgaebd cg bdaec gdafb agbcfd gdcbef bgcad gfac gcb cdgabef | cg cg fdcagb cbg',\n",
    "'fbegcd cbd adcefb dageb afcb bc aefdc ecdab fgdeca fcdbega | efabcd cedba gadfec cb',\n",
    "'aecbfdg fbg gf bafeg dbefa fcge gcbea fcaegb dgceab fcbdga | gecf egdcabf bgf bfgea',\n",
    "'fgeab ca afcebg bdacfeg cfaedg gcfdb baec bfadeg bafgc acf | gebdcfa ecba ca fadegcb',\n",
    "'dbcfg fgd bdegcaf fgec aegbdf ecdfab fbedc dacgb gdcebf gf | cefg dcbef fcge gbcadfe',\n",
    "'bdfegc cbegaf gecbf dfcage bdacg ed bedf ced adcbefg gebcd | ed bcgafe cdgba cbgef',\n",
    "'egadfb cdbfeg cegd fecab cgb gbdefca cg fgcdab egfdb bfceg | gbdfcae bgc cg cgb',\n",
    "'gcafb gcf dcaebfg ecagb gf abcdeg gaef cafbge fdbac fegbdc | fgae cfgab fg bagce']"
   ]
  },
  {
   "cell_type": "code",
   "execution_count": 108,
   "metadata": {},
   "outputs": [],
   "source": [
    "output=np.array([t[t.find('|')+2:].split(' ') for t in test_input]).reshape(40)"
   ]
  },
  {
   "cell_type": "code",
   "execution_count": 109,
   "metadata": {},
   "outputs": [
    {
     "data": {
      "text/plain": [
       "26"
      ]
     },
     "execution_count": 109,
     "metadata": {},
     "output_type": "execute_result"
    }
   ],
   "source": [
    "#digits are 1,4,7, or 8 if lengths of output strings are 2,3,4, or 7\n",
    "good_digits=[o for o in output if len(o) <=4 or len(o) ==7] #assume no 1-length strings\n",
    "len(good_digits)"
   ]
  },
  {
   "cell_type": "code",
   "execution_count": 421,
   "metadata": {},
   "outputs": [],
   "source": [
    "with open('input_day8.txt') as f:\n",
    "    day8lines=f.readlines()"
   ]
  },
  {
   "cell_type": "code",
   "execution_count": 415,
   "metadata": {},
   "outputs": [],
   "source": [
    "day8_input=np.array([t[t.find('|')+2:-1].split(' ') for t in lines]).flatten()"
   ]
  },
  {
   "cell_type": "code",
   "execution_count": 121,
   "metadata": {},
   "outputs": [
    {
     "data": {
      "text/plain": [
       "476"
      ]
     },
     "execution_count": 121,
     "metadata": {},
     "output_type": "execute_result"
    }
   ],
   "source": [
    "good_digits=[o for o in output if len(o) <=4 or len(o) ==7] #assume no 1-length strings\n",
    "len(good_digits)"
   ]
  },
  {
   "cell_type": "markdown",
   "metadata": {},
   "source": [
    "## Part 2\n",
    "\n",
    "The unique signal patterns correspond to the ten different ways the submarine tries to render a digit using the current wire/segment connections.\n",
    "\n",
    "each of these 10 different ways has lengths corresponding to lengths of actual signals! "
   ]
  },
  {
   "cell_type": "code",
   "execution_count": 329,
   "metadata": {},
   "outputs": [
    {
     "data": {
      "text/plain": [
       "'be cfbegad cbdgef fgaecd cgeb fdcge agebfd fecdb fabcd edb | fdgacbe cefdb cefbgd gcbe'"
      ]
     },
     "execution_count": 329,
     "metadata": {},
     "output_type": "execute_result"
    }
   ],
   "source": [
    "test_input[0]"
   ]
  },
  {
   "cell_type": "code",
   "execution_count": 379,
   "metadata": {},
   "outputs": [
    {
     "data": {
      "text/plain": [
       "(['fdgacbe', 'cefdb', 'cefbgd', 'gcbe'], [7, 5, 6, 4])"
      ]
     },
     "execution_count": 379,
     "metadata": {},
     "output_type": "execute_result"
    }
   ],
   "source": [
    "i=0\n",
    "test_output=test_input[i][test_input[i].find('|')+2:].split(' ')\n",
    "test_output, [len(t) for t in test_output]"
   ]
  },
  {
   "cell_type": "code",
   "execution_count": 336,
   "metadata": {},
   "outputs": [
    {
     "data": {
      "text/plain": [
       "['be',\n",
       " 'cfbegad',\n",
       " 'cbdgef',\n",
       " 'fgaecd',\n",
       " 'cgeb',\n",
       " 'fdcge',\n",
       " 'agebfd',\n",
       " 'fecdb',\n",
       " 'fabcd',\n",
       " 'edb',\n",
       " '|',\n",
       " 'fdgacbe',\n",
       " 'cefdb',\n",
       " 'cefbgd',\n",
       " 'gcbe']"
      ]
     },
     "execution_count": 336,
     "metadata": {},
     "output_type": "execute_result"
    }
   ],
   "source": [
    "signal=test_input[0].split(' ')\n",
    "signal"
   ]
  },
  {
   "cell_type": "code",
   "execution_count": 422,
   "metadata": {},
   "outputs": [],
   "source": [
    "def decoder(signal):\n",
    "    patterns = sorted(signal[:10], key=len)\n",
    "    unique_lens={2:'1',3:'7',4:'4',7:'8'}\n",
    "    solution={'1':patterns[0],'7':patterns[1],'4':patterns[2],'8':patterns[-1]}\n",
    "    \n",
    "    l6=patterns[6:9]\n",
    "    for num in l6: #only chars 2 and 3 unique: 0:ce,6:de,9:cd\n",
    "        if solution['4'][0] in num and solution['4'][1] in num and solution['4'][2] in num and solution['4'][3] in num:\n",
    "            solution['9'] = num\n",
    "        elif solution['1'][0] in num and solution['1'][1] in num:\n",
    "            solution['0'] = num\n",
    "        else:\n",
    "            solution['6'] = num\n",
    "    \n",
    "    l5=patterns[3:6]\n",
    "    for num in l5: #middle 3 unique - 2: cde, 3 :cdf,5: bdf\n",
    "        #print(num[1:4], solution['1'][0],solution['1'][1],solution['4'][2])\n",
    "        if solution['1'][0] in num and solution['1'][1] in num: #c & f\n",
    "            solution['3'] = num\n",
    "        elif all([n in solution['6'] for n in num]):\n",
    "            solution['5']=num\n",
    "        else:\n",
    "            solution['2'] = num\n",
    "    return solution\n",
    "\n",
    "def decode_line(output,key):\n",
    "    vals=''\n",
    "    for o in output:\n",
    "        for i in range(10):\n",
    "            if len(o) == len(key[str(i)]) and np.array([x in key[str(i)]for x in o]).all() == True:\n",
    "                vals+=str(i)\n",
    "                break\n",
    "    return int(vals)\n",
    "\n",
    "def decode_all(lines):\n",
    "    score=0\n",
    "    for line in lines:\n",
    "        signal=line[:-1].split(' ')\n",
    "        key=decoder(signal[:10])\n",
    "        score+=decode_line(signal[11:],key)\n",
    "    return score"
   ]
  },
  {
   "cell_type": "code",
   "execution_count": 407,
   "metadata": {},
   "outputs": [
    {
     "data": {
      "text/plain": [
       "61229"
      ]
     },
     "execution_count": 407,
     "metadata": {},
     "output_type": "execute_result"
    }
   ],
   "source": [
    "decode_all(test_input)"
   ]
  },
  {
   "cell_type": "code",
   "execution_count": 423,
   "metadata": {},
   "outputs": [
    {
     "data": {
      "text/plain": [
       "1011823"
      ]
     },
     "execution_count": 423,
     "metadata": {},
     "output_type": "execute_result"
    }
   ],
   "source": [
    "decode_all(day8lines)"
   ]
  },
  {
   "cell_type": "markdown",
   "metadata": {},
   "source": [
    "that means... 'be' = 'cf' = 2, 'edb' = 'acf' = 3, 'cgeb'= 'bcdf' = 4 etc... permutations allowed of course!\n",
    "\n",
    "so only non-unique ones have index 3:6 and 6:8\n"
   ]
  },
  {
   "cell_type": "markdown",
   "metadata": {},
   "source": [
    "# Day 9\n",
    "\n",
    "In the above example, there are four low points, all highlighted: two are in the first row (a 1 and a 0), one is in the third row (a 5), and one is in the bottom row (also a 5). All other locations on the heightmap have some lower adjacent location, and so are not low points.\n",
    "\n",
    "The risk level of a low point is 1 plus its height. In the above example, the risk levels of the low points are 2, 1, 6, and 6. The sum of the risk levels of all low points in the heightmap is therefore 15.\n",
    "\n",
    "Find all of the low points on your heightmap. What is the sum of the risk levels of all low points on your heightmap?"
   ]
  },
  {
   "cell_type": "code",
   "execution_count": 424,
   "metadata": {},
   "outputs": [],
   "source": [
    "test_input=np.array([\n",
    "[2,1,9,9,9,4,3,2,1,0],\n",
    "[3,9,8,7,8,9,4,9,2,1],\n",
    "[9,8,5,6,7,8,9,8,9,2],\n",
    "[8,7,6,7,8,9,6,7,8,9],\n",
    "[9,8,9,9,9,6,5,6,7,8]])"
   ]
  },
  {
   "cell_type": "code",
   "execution_count": 495,
   "metadata": {},
   "outputs": [
    {
     "data": {
      "text/plain": [
       "(array([[2, 1, 9, 9, 9, 4, 3, 2, 1, 0],\n",
       "        [3, 9, 8, 7, 8, 9, 4, 9, 2, 1],\n",
       "        [9, 8, 5, 6, 7, 8, 9, 8, 9, 2],\n",
       "        [8, 7, 6, 7, 8, 9, 6, 7, 8, 9],\n",
       "        [9, 8, 9, 9, 9, 6, 5, 6, 7, 8]]),\n",
       " (5, 10))"
      ]
     },
     "execution_count": 495,
     "metadata": {},
     "output_type": "execute_result"
    }
   ],
   "source": [
    "test_input,test_input.shape"
   ]
  },
  {
   "cell_type": "code",
   "execution_count": 431,
   "metadata": {},
   "outputs": [],
   "source": [
    "dx=np.diff(test_input,axis=1) # along horizontal axis"
   ]
  },
  {
   "cell_type": "code",
   "execution_count": 438,
   "metadata": {},
   "outputs": [
    {
     "data": {
      "text/plain": [
       "(array([[2, 1, 9, 9, 9, 4, 3, 2, 1, 0],\n",
       "        [3, 9, 8, 7, 8, 9, 4, 9, 2, 1],\n",
       "        [9, 8, 5, 6, 7, 8, 9, 8, 9, 2],\n",
       "        [8, 7, 6, 7, 8, 9, 6, 7, 8, 9],\n",
       "        [9, 8, 9, 9, 9, 6, 5, 6, 7, 8]]),\n",
       " array([[-1,  8,  0,  0, -5, -1, -1, -1, -1],\n",
       "        [ 6, -1, -1,  1,  1, -5,  5, -7, -1],\n",
       "        [-1, -3,  1,  1,  1,  1, -1,  1, -7],\n",
       "        [-1, -1,  1,  1,  1, -3,  1,  1,  1],\n",
       "        [-1,  1,  0,  0, -3, -1,  1,  1,  1]]))"
      ]
     },
     "execution_count": 438,
     "metadata": {},
     "output_type": "execute_result"
    }
   ],
   "source": [
    "test_input,dx"
   ]
  },
  {
   "cell_type": "markdown",
   "metadata": {},
   "source": [
    "if value goes from - to +, there is a local minimum in the horizontal direction\n",
    "\n",
    "so if i>0 but i-1 <0"
   ]
  },
  {
   "cell_type": "code",
   "execution_count": 533,
   "metadata": {},
   "outputs": [],
   "source": [
    "def x_min(test_input,dx):\n",
    "    xm=[]\n",
    "    for j,d in enumerate(dx):\n",
    "        for i,x in enumerate(d[:-1]):\n",
    "            if i==0 and x >0:\n",
    "                xm.append([j,0])\n",
    "            if x <0 and d[i+1]>0:\n",
    "                xm_idx=i+1\n",
    "                #print(j,xm_idx)\n",
    "                xm.append([j,xm_idx])\n",
    "        if test_input[j][-1] < test_input[j][-2]:\n",
    "            xm.append([j,len(d)-1]) #last digit\n",
    "    return xm"
   ]
  },
  {
   "cell_type": "code",
   "execution_count": 513,
   "metadata": {},
   "outputs": [
    {
     "data": {
      "text/plain": [
       "[[0, 1],\n",
       " [0, 9],\n",
       " [1, 0],\n",
       " [1, 3],\n",
       " [1, 6],\n",
       " [1, 9],\n",
       " [2, 2],\n",
       " [2, 7],\n",
       " [2, 9],\n",
       " [3, 2],\n",
       " [3, 6],\n",
       " [4, 1],\n",
       " [4, 6]]"
      ]
     },
     "execution_count": 513,
     "metadata": {},
     "output_type": "execute_result"
    }
   ],
   "source": [
    "xm=x_min(test_input,dx)\n",
    "xm"
   ]
  },
  {
   "cell_type": "code",
   "execution_count": 441,
   "metadata": {},
   "outputs": [
    {
     "data": {
      "text/plain": [
       "(array([[2, 1, 9, 9, 9, 4, 3, 2, 1, 0],\n",
       "        [3, 9, 8, 7, 8, 9, 4, 9, 2, 1],\n",
       "        [9, 8, 5, 6, 7, 8, 9, 8, 9, 2],\n",
       "        [8, 7, 6, 7, 8, 9, 6, 7, 8, 9],\n",
       "        [9, 8, 9, 9, 9, 6, 5, 6, 7, 8]]),\n",
       " array([[ 1,  8, -1, -2, -1,  5,  1,  7,  1,  1],\n",
       "        [ 6, -1, -3, -1, -1, -1,  5, -1,  7,  1],\n",
       "        [-1, -1,  1,  1,  1,  1, -3, -1, -1,  7],\n",
       "        [ 1,  1,  3,  2,  1, -3, -1, -1, -1, -1]]))"
      ]
     },
     "execution_count": 441,
     "metadata": {},
     "output_type": "execute_result"
    }
   ],
   "source": [
    "dy=np.diff(test_input,axis=0)\n",
    "test_input,dy"
   ]
  },
  {
   "cell_type": "markdown",
   "metadata": {},
   "source": [
    "if difference is positive between number's index and the index in the next row, it's local minimum. otherwise no."
   ]
  },
  {
   "cell_type": "code",
   "execution_count": 514,
   "metadata": {},
   "outputs": [],
   "source": [
    "def y_min(xm,dy):\n",
    "    ym=[]\n",
    "    for row,col in xm: #ex 1,6\n",
    "        #print('row',row,col)\n",
    "        next_row_dy=row # 1\n",
    "        prev_row_dy=row-1 # 0\n",
    "        \n",
    "        if prev_row_dy>=0 and next_row_dy < dy.shape[0]:\n",
    "            if dy[prev_row_dy][col]<0 and dy[next_row_dy][col]>0:\n",
    "                #print('both',row,col)\n",
    "                ym.append([row,col])\n",
    "        else:\n",
    "            try:\n",
    "                if dy[next_row_dy][col]>0:\n",
    "                    #print('next',row,col)\n",
    "                    ym.append([row,col])\n",
    "            except IndexError:\n",
    "                if dy[prev_row_dy][col]<0:\n",
    "                    #print('prev',row,col)\n",
    "                    ym.append([row,col])\n",
    "    return ym"
   ]
  },
  {
   "cell_type": "code",
   "execution_count": 515,
   "metadata": {},
   "outputs": [],
   "source": [
    "ym=y_min(xm,dy)"
   ]
  },
  {
   "cell_type": "code",
   "execution_count": 516,
   "metadata": {},
   "outputs": [
    {
     "data": {
      "text/plain": [
       "[[0, 1], [0, 9], [2, 2], [4, 6]]"
      ]
     },
     "execution_count": 516,
     "metadata": {},
     "output_type": "execute_result"
    }
   ],
   "source": [
    "ym"
   ]
  },
  {
   "cell_type": "code",
   "execution_count": 517,
   "metadata": {},
   "outputs": [],
   "source": [
    "def risk_level(test_input,ym):\n",
    "    return np.sum([test_input[x,y]+1 for x,y in ym])"
   ]
  },
  {
   "cell_type": "code",
   "execution_count": 518,
   "metadata": {},
   "outputs": [
    {
     "data": {
      "text/plain": [
       "15"
      ]
     },
     "execution_count": 518,
     "metadata": {},
     "output_type": "execute_result"
    }
   ],
   "source": [
    "risk_level(test_input,ym)"
   ]
  },
  {
   "cell_type": "code",
   "execution_count": 561,
   "metadata": {},
   "outputs": [],
   "source": [
    "with open('input_day9.txt') as f:\n",
    "    day9lines=f.readlines()\n",
    "\n",
    "day9arr=np.zeros((100,100))\n",
    "for i,line in enumerate(day9lines):\n",
    "    day9arr[i]=[int(c) for c in line[:-1]]"
   ]
  },
  {
   "cell_type": "code",
   "execution_count": 534,
   "metadata": {},
   "outputs": [
    {
     "data": {
      "text/plain": [
       "3740.0"
      ]
     },
     "execution_count": 534,
     "metadata": {},
     "output_type": "execute_result"
    }
   ],
   "source": [
    "dx=np.diff(day9arr,axis=1)\n",
    "xm=x_min(day9arr,dy)\n",
    "dy=np.diff(day9arr,axis=0)\n",
    "ym=y_min(xm,dy)\n",
    "risk_level(day9arr,ym)"
   ]
  },
  {
   "cell_type": "code",
   "execution_count": 558,
   "metadata": {},
   "outputs": [],
   "source": [
    "def isLowPoint(row, column, grid):\n",
    "\t\"\"\"This function is used to determine if a given map location is a low point.\n",
    "\tThis is done by obtaining first the indexes of the adjacent horizontal grid positions, then\n",
    "\tfiltering them to ensure they are inside the grid (index must be greater than 0, less than the max row/col\n",
    "\tdimension).  The values for each neighbor are then obtained and the min value is compared to the value at the\n",
    "\tcurrent grid location.\"\"\"\n",
    "\tmax_row = len(grid)\n",
    "\tmax_col = len(grid[0])\n",
    "\tcurrent_location_value = grid[row][column]\n",
    "\tpossible_neighbors = []\n",
    "\t# populate the (row, col) of all adjacent locations - no diagonals though\n",
    "\tfor i in (row - 1, row + 1):\n",
    "\t\tpossible_neighbors.append((i, column))\n",
    "\tfor j in (column - 1, column + 1):\n",
    "\t\tpossible_neighbors.append((row, j))\n",
    "\t# x below is a (row, col) tuple for neighbors around the location in question\n",
    "\t# filter is used to avoid IndexErrors from going outside the matrix edges\n",
    "\tneighbors = list(filter(lambda x: 0 <= x[0] < max_row and 0 <= x[1] < max_col, possible_neighbors))\n",
    "\tneighbor_values = [grid[y][x] for (y, x) in neighbors]\n",
    "\treturn current_location_value < min(neighbor_values)\n",
    "\n",
    "\n",
    "def part1(hmap):\n",
    "\ttotal_risk = 0\n",
    "\t# keep track of the low points\n",
    "\tlowpoints = []\n",
    "\tfor i, row in enumerate(hmap):\n",
    "\t\tfor j, col in enumerate(row):\n",
    "\t\t\tif isLowPoint(i, j, hmap):\n",
    "\t\t\t\tlowpoints.append((i, j))\n",
    "\t\t\t\t# risk value of a low point is 1 plus its height\n",
    "\t\t\t\ttotal_risk += (1 + col)\n",
    "\treturn total_risk, lowpoints"
   ]
  },
  {
   "cell_type": "code",
   "execution_count": 562,
   "metadata": {
    "collapsed": true
   },
   "outputs": [
    {
     "data": {
      "text/plain": [
       "(580.0,\n",
       " [(0, 0),\n",
       "  (0, 20),\n",
       "  (0, 52),\n",
       "  (0, 61),\n",
       "  (0, 66),\n",
       "  (0, 72),\n",
       "  (0, 76),\n",
       "  (1, 7),\n",
       "  (1, 15),\n",
       "  (1, 24),\n",
       "  (1, 43),\n",
       "  (1, 88),\n",
       "  (1, 97),\n",
       "  (2, 35),\n",
       "  (2, 65),\n",
       "  (3, 3),\n",
       "  (3, 29),\n",
       "  (4, 37),\n",
       "  (4, 48),\n",
       "  (4, 57),\n",
       "  (4, 91),\n",
       "  (5, 0),\n",
       "  (5, 11),\n",
       "  (6, 19),\n",
       "  (6, 85),\n",
       "  (7, 43),\n",
       "  (7, 77),\n",
       "  (8, 6),\n",
       "  (8, 30),\n",
       "  (9, 72),\n",
       "  (9, 99),\n",
       "  (10, 11),\n",
       "  (10, 67),\n",
       "  (10, 80),\n",
       "  (10, 96),\n",
       "  (11, 19),\n",
       "  (11, 22),\n",
       "  (11, 50),\n",
       "  (11, 61),\n",
       "  (12, 35),\n",
       "  (13, 16),\n",
       "  (13, 72),\n",
       "  (13, 97),\n",
       "  (14, 0),\n",
       "  (14, 46),\n",
       "  (14, 89),\n",
       "  (15, 23),\n",
       "  (16, 55),\n",
       "  (17, 17),\n",
       "  (17, 42),\n",
       "  (17, 64),\n",
       "  (17, 74),\n",
       "  (18, 11),\n",
       "  (18, 78),\n",
       "  (20, 30),\n",
       "  (20, 70),\n",
       "  (21, 20),\n",
       "  (21, 37),\n",
       "  (21, 88),\n",
       "  (21, 97),\n",
       "  (22, 46),\n",
       "  (22, 64),\n",
       "  (22, 89),\n",
       "  (23, 56),\n",
       "  (23, 94),\n",
       "  (25, 2),\n",
       "  (25, 24),\n",
       "  (25, 39),\n",
       "  (25, 76),\n",
       "  (26, 14),\n",
       "  (26, 17),\n",
       "  (26, 33),\n",
       "  (26, 81),\n",
       "  (26, 98),\n",
       "  (27, 7),\n",
       "  (27, 63),\n",
       "  (27, 68),\n",
       "  (28, 30),\n",
       "  (28, 90),\n",
       "  (29, 53),\n",
       "  (29, 60),\n",
       "  (29, 79),\n",
       "  (30, 20),\n",
       "  (30, 84),\n",
       "  (30, 99),\n",
       "  (31, 2),\n",
       "  (31, 42),\n",
       "  (31, 74),\n",
       "  (32, 13),\n",
       "  (32, 48),\n",
       "  (34, 33),\n",
       "  (35, 21),\n",
       "  (35, 93),\n",
       "  (36, 52),\n",
       "  (36, 69),\n",
       "  (36, 77),\n",
       "  (37, 27),\n",
       "  (37, 85),\n",
       "  (38, 4),\n",
       "  (38, 10),\n",
       "  (38, 16),\n",
       "  (38, 43),\n",
       "  (39, 20),\n",
       "  (40, 57),\n",
       "  (41, 40),\n",
       "  (41, 65),\n",
       "  (41, 98),\n",
       "  (42, 1),\n",
       "  (42, 49),\n",
       "  (42, 77),\n",
       "  (43, 5),\n",
       "  (43, 11),\n",
       "  (43, 18),\n",
       "  (43, 26),\n",
       "  (43, 32),\n",
       "  (44, 54),\n",
       "  (45, 38),\n",
       "  (45, 98),\n",
       "  (46, 42),\n",
       "  (46, 85),\n",
       "  (46, 92),\n",
       "  (47, 44),\n",
       "  (48, 14),\n",
       "  (48, 18),\n",
       "  (49, 62),\n",
       "  (49, 71),\n",
       "  (50, 2),\n",
       "  (50, 88),\n",
       "  (50, 96),\n",
       "  (51, 30),\n",
       "  (51, 36),\n",
       "  (51, 50),\n",
       "  (52, 40),\n",
       "  (53, 9),\n",
       "  (53, 19),\n",
       "  (53, 82),\n",
       "  (54, 60),\n",
       "  (54, 91),\n",
       "  (55, 25),\n",
       "  (56, 64),\n",
       "  (56, 78),\n",
       "  (56, 94),\n",
       "  (57, 36),\n",
       "  (57, 50),\n",
       "  (58, 22),\n",
       "  (59, 0),\n",
       "  (59, 58),\n",
       "  (59, 98),\n",
       "  (60, 26),\n",
       "  (60, 69),\n",
       "  (60, 89),\n",
       "  (62, 11),\n",
       "  (62, 17),\n",
       "  (62, 55),\n",
       "  (63, 43),\n",
       "  (63, 50),\n",
       "  (64, 35),\n",
       "  (64, 62),\n",
       "  (64, 76),\n",
       "  (64, 83),\n",
       "  (65, 6),\n",
       "  (65, 97),\n",
       "  (66, 24),\n",
       "  (66, 92),\n",
       "  (67, 54),\n",
       "  (67, 72),\n",
       "  (67, 75),\n",
       "  (67, 87),\n",
       "  (69, 0),\n",
       "  (69, 44),\n",
       "  (69, 68),\n",
       "  (69, 91),\n",
       "  (70, 15),\n",
       "  (70, 79),\n",
       "  (71, 87),\n",
       "  (71, 99),\n",
       "  (72, 56),\n",
       "  (72, 62),\n",
       "  (72, 94),\n",
       "  (73, 28),\n",
       "  (74, 9),\n",
       "  (74, 68),\n",
       "  (74, 98),\n",
       "  (75, 2),\n",
       "  (75, 51),\n",
       "  (75, 61),\n",
       "  (76, 19),\n",
       "  (76, 82),\n",
       "  (77, 43),\n",
       "  (77, 76),\n",
       "  (78, 0),\n",
       "  (78, 14),\n",
       "  (78, 25),\n",
       "  (78, 32),\n",
       "  (78, 38),\n",
       "  (79, 99),\n",
       "  (80, 9),\n",
       "  (80, 57),\n",
       "  (80, 66),\n",
       "  (80, 91),\n",
       "  (81, 2),\n",
       "  (81, 21),\n",
       "  (81, 71),\n",
       "  (82, 30),\n",
       "  (82, 79),\n",
       "  (83, 49),\n",
       "  (83, 62),\n",
       "  (83, 68),\n",
       "  (84, 35),\n",
       "  (85, 15),\n",
       "  (85, 20),\n",
       "  (85, 26),\n",
       "  (85, 42),\n",
       "  (85, 85),\n",
       "  (86, 2),\n",
       "  (86, 10),\n",
       "  (86, 98),\n",
       "  (88, 55),\n",
       "  (88, 65),\n",
       "  (88, 90),\n",
       "  (89, 19),\n",
       "  (89, 74),\n",
       "  (90, 38),\n",
       "  (91, 0),\n",
       "  (91, 46),\n",
       "  (92, 86),\n",
       "  (92, 96),\n",
       "  (93, 6),\n",
       "  (93, 14),\n",
       "  (93, 30),\n",
       "  (93, 59),\n",
       "  (94, 36),\n",
       "  (94, 68),\n",
       "  (94, 81),\n",
       "  (95, 24),\n",
       "  (96, 27),\n",
       "  (96, 56),\n",
       "  (96, 73),\n",
       "  (96, 92),\n",
       "  (97, 1),\n",
       "  (97, 31),\n",
       "  (97, 41),\n",
       "  (97, 66),\n",
       "  (98, 20),\n",
       "  (98, 37),\n",
       "  (98, 74),\n",
       "  (98, 85),\n",
       "  (99, 11),\n",
       "  (99, 50),\n",
       "  (99, 61),\n",
       "  (99, 97)])"
      ]
     },
     "execution_count": 562,
     "metadata": {},
     "output_type": "execute_result"
    }
   ],
   "source": [
    "part1(day9arr)"
   ]
  },
  {
   "cell_type": "code",
   "execution_count": 563,
   "metadata": {},
   "outputs": [
    {
     "data": {
      "text/plain": [
       "<matplotlib.image.AxesImage at 0x7fb2b6b092d0>"
      ]
     },
     "execution_count": 563,
     "metadata": {},
     "output_type": "execute_result"
    },
    {
     "data": {
      "image/png": "[encoded data removed]",
      "text/plain": [
       "<Figure size 432x288 with 1 Axes>"
      ]
     },
     "metadata": {
      "needs_background": "light"
     },
     "output_type": "display_data"
    }
   ],
   "source": [
    "plt.imshow(day9arr)"
   ]
  },
  {
   "cell_type": "code",
   "execution_count": 567,
   "metadata": {},
   "outputs": [
    {
     "data": {
      "text/plain": [
       "<matplotlib.contour.QuadContourSet at 0x7fb2b6b8b090>"
      ]
     },
     "execution_count": 567,
     "metadata": {},
     "output_type": "execute_result"
    },
    {
     "data": {
      "image/png": "[encoded data removed]",
      "text/plain": [
       "<Figure size 576x432 with 1 Axes>"
      ]
     },
     "metadata": {
      "needs_background": "light"
     },
     "output_type": "display_data"
    }
   ],
   "source": [
    "fig,ax=plt.subplots(figsize=(8,6))\n",
    "ax.contour(day9arr,levels=9)"
   ]
  },
  {
   "cell_type": "markdown",
   "metadata": {},
   "source": [
    "# Day 10"
   ]
  },
  {
   "cell_type": "code",
   "execution_count": 247,
   "metadata": {},
   "outputs": [],
   "source": [
    "test_input=[\n",
    "'[({(<(())[]>[[{[]{<()<>>',\n",
    "'[(()[<>])]({[<{<<[]>>(',\n",
    "'{([(<{}[<>[]}>{[]{[(<()>',\n",
    "'(((({<>}<{<{<>}{[]{[]{}',\n",
    "'[[<[([]))<([[{}[[()]]]',\n",
    "'[{[{({}]{}}([{[{{{}}([]',\n",
    "'{<[[]]>}<{[{[{[]{()[[[]',\n",
    "'[<(<(<(<{}))><([]([]()',\n",
    "'<{([([[(<>()){}]>(<<{{',\n",
    "'<{([{{}}[<[[[<>{}]]]>[]]']"
   ]
  },
  {
   "cell_type": "code",
   "execution_count": 298,
   "metadata": {},
   "outputs": [],
   "source": [
    "open_chars=['[','(','{','<']\n",
    "close_chars=[']',')','}','>']\n",
    "scores={')':3,'}':1197,']':57,'>':25137}"
   ]
  },
  {
   "cell_type": "code",
   "execution_count": 299,
   "metadata": {},
   "outputs": [],
   "source": [
    "def illegal(line):\n",
    "    is_open=[]\n",
    "    for i,c in enumerate(line):\n",
    "        if c in open_chars:\n",
    "            is_open.append(c)\n",
    "        elif c in close_chars and close_chars.index(c) == open_chars.index(is_open[-1]): #valid\n",
    "            is_open.pop(-1) #it's closed so remove it\n",
    "        else:\n",
    "            #print(f\"Expected {close_chars[open_chars.index(is_open[-1])]}, found {c} instead!\")\n",
    "            return scores[c]\n",
    "    return 0"
   ]
  },
  {
   "cell_type": "code",
   "execution_count": 310,
   "metadata": {},
   "outputs": [],
   "source": [
    "lscores=0\n",
    "clean_test_input=[]\n",
    "for line in test_input:\n",
    "    score=illegal(line[:-1])\n",
    "    lscores+=score\n",
    "    if score ==0:\n",
    "        clean_test_input.append(line)"
   ]
  },
  {
   "cell_type": "code",
   "execution_count": 295,
   "metadata": {},
   "outputs": [
    {
     "data": {
      "text/plain": [
       "26397"
      ]
     },
     "execution_count": 295,
     "metadata": {},
     "output_type": "execute_result"
    }
   ],
   "source": [
    "lscores"
   ]
  },
  {
   "cell_type": "code",
   "execution_count": 296,
   "metadata": {},
   "outputs": [],
   "source": [
    "with open('input_day10.txt') as f:\n",
    "    lines=f.readlines()"
   ]
  },
  {
   "cell_type": "code",
   "execution_count": 325,
   "metadata": {},
   "outputs": [],
   "source": [
    "lscores=0\n",
    "clean_input=[]\n",
    "for line in lines:\n",
    "    score=illegal(line[:-1])\n",
    "    lscores+=score\n",
    "    if score ==0:\n",
    "        clean_input.append(line)"
   ]
  },
  {
   "cell_type": "code",
   "execution_count": 305,
   "metadata": {},
   "outputs": [
    {
     "data": {
      "text/plain": [
       "362271"
      ]
     },
     "execution_count": 305,
     "metadata": {},
     "output_type": "execute_result"
    }
   ],
   "source": [
    "lscores"
   ]
  },
  {
   "cell_type": "markdown",
   "metadata": {},
   "source": [
    "## Part 2\n",
    "\n",
    "Now, discard the corrupted lines. The remaining lines are incomplete.\n",
    "\n",
    "Incomplete lines don't have any incorrect characters - instead, they're missing some closing characters at the end of the line. To repair the navigation subsystem, you just need to figure out the sequence of closing characters that complete all open chunks in the line.\n",
    "\n",
    "Start with a total score of 0. Then, for each character, multiply the total score by 5 and then increase the total score by the point value given for the character in the following table:\n",
    "\n",
    "    ): 1 point.\n",
    "    ]: 2 points.\n",
    "    }: 3 points.\n",
    "    >: 4 points.\n"
   ]
  },
  {
   "cell_type": "code",
   "execution_count": 324,
   "metadata": {},
   "outputs": [],
   "source": [
    "cscores={')':1,']':2,'}':3,'>':4}\n",
    "def missing(line):\n",
    "    is_open,complete=[],[]\n",
    "    score=0\n",
    "    for i,c in enumerate(line):\n",
    "        if c in open_chars:\n",
    "            is_open.append(c)\n",
    "        elif c in close_chars and close_chars.index(c) == open_chars.index(is_open[-1]): #valid\n",
    "            is_open.pop(-1) #it's closed so remove it\n",
    "    if is_open !=[]: #still got characters left\n",
    "        is_open.reverse()\n",
    "        for c in is_open:\n",
    "            cm=close_chars[open_chars.index(c)]\n",
    "            complete.append(cm)\n",
    "            score*=5\n",
    "            score+=cscores[cm]\n",
    "        #print(''.join(complete))\n",
    "        return score"
   ]
  },
  {
   "cell_type": "code",
   "execution_count": 318,
   "metadata": {},
   "outputs": [],
   "source": [
    "def repair(lines):\n",
    "    scores=[]\n",
    "    for line in lines:\n",
    "        scores.append(missing(line))\n",
    "    return scores"
   ]
  },
  {
   "cell_type": "code",
   "execution_count": 322,
   "metadata": {},
   "outputs": [
    {
     "name": "stdout",
     "output_type": "stream",
     "text": [
      "}}]])})]\n",
      ")}>]})\n",
      "}}>}>))))\n",
      "]]}}]}]}>\n",
      "])}>\n"
     ]
    }
   ],
   "source": [
    "ss=repair(clean_test_input)"
   ]
  },
  {
   "cell_type": "code",
   "execution_count": 323,
   "metadata": {},
   "outputs": [
    {
     "data": {
      "text/plain": [
       "288957.0"
      ]
     },
     "execution_count": 323,
     "metadata": {},
     "output_type": "execute_result"
    }
   ],
   "source": [
    "np.median(ss)"
   ]
  },
  {
   "cell_type": "code",
   "execution_count": 326,
   "metadata": {},
   "outputs": [],
   "source": [
    "ss=repair(clean_input)"
   ]
  },
  {
   "cell_type": "code",
   "execution_count": 327,
   "metadata": {},
   "outputs": [
    {
     "data": {
      "text/plain": [
       "1698395182.0"
      ]
     },
     "execution_count": 327,
     "metadata": {},
     "output_type": "execute_result"
    }
   ],
   "source": [
    "np.median(ss)"
   ]
  },
  {
   "cell_type": "markdown",
   "metadata": {},
   "source": [
    "# Day 11\n",
    "\n",
    "There are 100 octopuses arranged neatly in a 10 by 10 grid. Each octopus slowly gains energy over time and flashes brightly for a moment when its energy is full. Although your lights are off, maybe you could navigate through the cave without disturbing the octopuses if you could predict when the flashes of light will happen.\n",
    "\n",
    "The energy level of each octopus is a value between 0 and 9. Here, the top-left octopus has an energy level of 5, the bottom-right one has an energy level of 6, and so on.\n",
    "\n",
    "You can model the energy levels and flashes of light in steps. During a single step, the following occurs:\n",
    "\n",
    "    First, the energy level of each octopus increases by 1.\n",
    "    Then, any octopus with an energy level greater than 9 flashes. This increases the energy level of all adjacent octopuses by 1, including octopuses that are diagonally adjacent. If this causes an octopus to have an energy level greater than 9, it also flashes. This process continues as long as new octopuses keep having their energy level increased beyond 9. (An octopus can only flash at most once per step.)\n",
    "    Finally, any octopus that flashed during this step has its energy level set to 0, as it used all of its energy to flash.\n",
    "\n",
    "Adjacent flashes can cause an octopus to flash on a step even if it begins that step with very little energy."
   ]
  },
  {
   "cell_type": "code",
   "execution_count": 853,
   "metadata": {},
   "outputs": [],
   "source": [
    "test_input=np.array([\n",
    "[5,4,8,3,1,4,3,2,2,3],\n",
    "[2,7,4,5,8,5,4,7,1,1],\n",
    "[5,2,6,4,5,5,6,1,7,3],\n",
    "[6,1,4,1,3,3,6,1,4,6],\n",
    "[6,3,5,7,3,8,5,4,7,8],\n",
    "[4,1,6,7,5,2,4,6,4,5],\n",
    "[2,1,7,6,8,4,1,7,2,1],\n",
    "[6,8,8,2,8,8,1,1,3,4],\n",
    "[4,8,4,6,8,4,8,5,5,4],\n",
    "[5,2,8,3,7,5,1,5,2,6]])"
   ]
  },
  {
   "cell_type": "code",
   "execution_count": 839,
   "metadata": {
    "scrolled": true
   },
   "outputs": [],
   "source": [
    "def day11_part1(test_input):\n",
    "    s=0\n",
    "    steps=100\n",
    "    nflashes=0\n",
    "    while s < steps:\n",
    "        #if s >=50:\n",
    "            #print(s,nflashes)\n",
    "            #print(test_input)\n",
    "        test_input+=1 #step 1\n",
    "        nines=np.where(test_input >= 9)\n",
    "        if nines[0].size > 0:\n",
    "            #print(test_input)\n",
    "            s+=1\n",
    "\n",
    "            #test_input+=1 #start step 2 - there are now 9's and 10's\n",
    "            #print(test_input)\n",
    "            new_nines=np.where(test_input > 9)\n",
    "            #print(new_nines)\n",
    "            while new_nines[0].size >0:\n",
    "                for x,y in zip(new_nines[0],new_nines[1]):\n",
    "                    #print('x,y:',x,y)\n",
    "                    test_input[x,y]*=-100 #so you know it flashed\n",
    "                    for i in range(-1,2):\n",
    "                        for j in range(-1,2):\n",
    "                            if x+i >=0 and y+j >=0 and x+i <test_input.shape[0] and y+j <test_input.shape[1]:\n",
    "                                test_input[x+i,y+j]+=1\n",
    "                                #print(x+i,y+j)\n",
    "                new_nines=np.where(test_input >= 10) #can also skip from say 9-11... doesn't necessarily pass through 10!\n",
    "            test_input[test_input >9] = 0\n",
    "            test_input[test_input <0] = 0\n",
    "            nflashes +=(np.product(test_input.shape) - np.count_nonzero(test_input))\n",
    "        else:\n",
    "            #test_input+=1\n",
    "            s+=1\n",
    "    return nflashes"
   ]
  },
  {
   "cell_type": "code",
   "execution_count": 837,
   "metadata": {},
   "outputs": [
    {
     "data": {
      "text/plain": [
       "1656"
      ]
     },
     "execution_count": 837,
     "metadata": {},
     "output_type": "execute_result"
    }
   ],
   "source": [
    "nflashes"
   ]
  },
  {
   "cell_type": "code",
   "execution_count": 857,
   "metadata": {},
   "outputs": [],
   "source": [
    "day11_input=np.array([\n",
    "[6,1,1,1,8,2,1,7,6,7],\n",
    "[1,7,6,3,6,1,1,6,1,5],\n",
    "[3,5,1,2,6,8,3,1,3,1],\n",
    "[8,5,8,2,7,7,1,4,7,3],\n",
    "[8,2,1,4,8,1,3,8,7,4],\n",
    "[2,3,2,5,8,2,3,2,1,7],\n",
    "[2,2,2,2,4,8,2,8,2,3],\n",
    "[5,4,7,1,3,5,6,7,8,2],\n",
    "[3,7,3,8,6,7,1,2,8,7],\n",
    "[8,6,7,5,2,2,6,5,7,4]\n",
    "])"
   ]
  },
  {
   "cell_type": "code",
   "execution_count": 840,
   "metadata": {},
   "outputs": [
    {
     "data": {
      "text/plain": [
       "1793"
      ]
     },
     "execution_count": 840,
     "metadata": {},
     "output_type": "execute_result"
    }
   ],
   "source": [
    "day11_part1(day11_input)"
   ]
  },
  {
   "cell_type": "code",
   "execution_count": 851,
   "metadata": {},
   "outputs": [],
   "source": [
    "def day11_part2(test_input,niter=1000):\n",
    "    s=0\n",
    "    nflashes=0\n",
    "    while s < niter:\n",
    "        if np.count_nonzero(test_input)!=0:\n",
    "            test_input+=1 #step 1\n",
    "            nines=np.where(test_input >= 9)\n",
    "            if nines[0].size > 0:\n",
    "                #print(test_input)\n",
    "                s+=1\n",
    "\n",
    "                #test_input+=1 #start step 2 - there are now 9's and 10's\n",
    "                #print(test_input)\n",
    "                new_nines=np.where(test_input > 9)\n",
    "                #print(new_nines)\n",
    "                while new_nines[0].size >0:\n",
    "                    for x,y in zip(new_nines[0],new_nines[1]):\n",
    "                        #print('x,y:',x,y)\n",
    "                        test_input[x,y]*=-100 #so you know it flashed\n",
    "                        for i in range(-1,2):\n",
    "                            for j in range(-1,2):\n",
    "                                if x+i >=0 and y+j >=0 and x+i <test_input.shape[0] and y+j <test_input.shape[1]:\n",
    "                                    test_input[x+i,y+j]+=1\n",
    "                                    #print(x+i,y+j)\n",
    "                    new_nines=np.where(test_input >= 10) #can also skip from say 9-11... doesn't necessarily pass through 10!\n",
    "                test_input[test_input >9] = 0\n",
    "                test_input[test_input <0] = 0\n",
    "                nflashes +=(np.product(test_input.shape) - np.count_nonzero(test_input))\n",
    "            else:\n",
    "                s+=1\n",
    "        else:\n",
    "            break\n",
    "    return s,nflashes"
   ]
  },
  {
   "cell_type": "code",
   "execution_count": 858,
   "metadata": {},
   "outputs": [
    {
     "data": {
      "text/plain": [
       "(247, 4038)"
      ]
     },
     "execution_count": 858,
     "metadata": {},
     "output_type": "execute_result"
    }
   ],
   "source": [
    "day11_part2(day11_input,niter=2000)"
   ]
  },
  {
   "cell_type": "markdown",
   "metadata": {},
   "source": [
    "# Day 12\n",
    "\n",
    "Your goal is to find the number of distinct paths that start at start, end at end, and don't visit small caves more than once. There are two types of caves: big caves (written in uppercase, like A) and small caves (written in lowercase, like b). It would be a waste of time to visit any small cave more than once, but big caves are large enough that it might be worth visiting them multiple times. So, all paths you find should visit small caves at most once, and can visit big caves any number of times."
   ]
  },
  {
   "cell_type": "code",
   "execution_count": 967,
   "metadata": {},
   "outputs": [],
   "source": [
    "ex19=['dc-end',\n",
    "'HN-start',\n",
    "'start-kj',\n",
    "'dc-start',\n",
    "'dc-HN',\n",
    "'LN-dc',\n",
    "'HN-end',\n",
    "'kj-sa',\n",
    "'kj-HN',\n",
    "'kj-dc']"
   ]
  },
  {
   "cell_type": "markdown",
   "metadata": {},
   "source": [
    "         start\n",
    "    |       |      |\n",
    "    dc  -   HN -  kj -\n",
    "    |    \\   |      |\n",
    "    LN     end     sa\n",
    "    "
   ]
  },
  {
   "cell_type": "code",
   "execution_count": 969,
   "metadata": {},
   "outputs": [],
   "source": [
    "def parse_day12input(lines):\n",
    "    ltups=[]\n",
    "    for line in lines:\n",
    "        n1=line[:line.find('-')]\n",
    "        n2=line[line.find('-')+1:]\n",
    "        ltups.append((n1,n2))\n",
    "        \n",
    "    all_nodes=np.array(ltups).flatten()\n",
    "    unique_nodes=np.unique(all_nodes)\n",
    "    big_caves=[n for n in unique_nodes if n.isupper()]\n",
    "    small_caves=[n for n in unique_nodes if n.islower()]\n",
    "    small_caves.remove('start')\n",
    "    small_caves.remove('end')\n",
    "    big_caves,small_caves\n",
    "    return ltups,big_caves,small_caves"
   ]
  },
  {
   "cell_type": "code",
   "execution_count": 970,
   "metadata": {},
   "outputs": [],
   "source": [
    "ltups,big_caves,small_caves=parse_day12input(ex19)"
   ]
  },
  {
   "cell_type": "code",
   "execution_count": 965,
   "metadata": {},
   "outputs": [],
   "source": [
    "import random\n",
    "\n",
    "def walk(ltups,small_caves,small_caves_visited=[]):\n",
    "    wpath=['start']\n",
    "    next_step=''\n",
    "    \n",
    "    while next_step != 'end':\n",
    "        next_step=step(ltups,wpath[-1],small_caves_visited)\n",
    "        if next_step in small_caves:\n",
    "            small_caves_visited.append(next_step)\n",
    "        wpath.append(next_step)\n",
    "    #print(wpath)\n",
    "    return wpath\n",
    "            \n",
    "def step(ltups,last_step,small_caves_visited):\n",
    "    for tup in ltups:\n",
    "        if last_step in tup:\n",
    "            next_step=tup[1-tup.index(last_step)] #the other one\n",
    "            if next_step in small_caves_visited or next_step =='start':\n",
    "                continue\n",
    "            else:\n",
    "                break\n",
    "    return next_step\n",
    "    \n",
    "def find_unique_paths(ltups,small_caves):\n",
    "    upaths=[walk(ltups,small_caves)]\n",
    "    sc_visited=[c for c in upaths[0][1:-1] if c.islower()]\n",
    "    print(sc_visited)\n",
    "    next_walker=walk(ltups,small_caves,sc_visited)\n",
    "    #print(upaths,next_walker)\n",
    "    \n",
    "    while next_walker not in upaths:\n",
    "        upaths.append(next_walker)\n",
    "        next_walker=walk(ltups,small_caves,sc_visited)\n",
    "        print('next',next_walker)\n",
    "        if np.sum([c.islower() for c in next_walker[1:-1]]) >=2:\n",
    "            print('invalid path!')\n",
    "            continue\n",
    "        for c in next_walker[1:-1]:\n",
    "            #print('here', small_caves_visited)\n",
    "            if c.islower() and c not in sc_visited:\n",
    "                sc_visited.append(c)\n",
    "        print(sc_visited)\n",
    "        random.shuffle(ltups)\n",
    "    return upaths"
   ]
  },
  {
   "cell_type": "code",
   "execution_count": 988,
   "metadata": {},
   "outputs": [],
   "source": [
    "def bfs(start, goal, twice):\n",
    "    queue = [(start,set(),twice)]\n",
    "    while queue:\n",
    "        current,small,twice = queue.pop(0)\n",
    "        if current == goal:\n",
    "            yield 1\n",
    "        elif current.islower():\n",
    "            twice &= current not in small\n",
    "            small.add(current)\n",
    "        for node in maze.get(current,[]):\n",
    "            if node not in small or twice:\n",
    "                queue.append((node,small.copy(),twice))"
   ]
  },
  {
   "cell_type": "code",
   "execution_count": 991,
   "metadata": {},
   "outputs": [],
   "source": [
    "maze = {}\n",
    "for line in open('input_day12.txt').read().splitlines():\n",
    "    s,e = line.split('-')\n",
    "    #print(s,e)\n",
    "    if s!='end' and e!='start': maze.setdefault(s,set()).add(e)\n",
    "    if e!='end' and s!='start': maze.setdefault(e,set()).add(s)"
   ]
  },
  {
   "cell_type": "code",
   "execution_count": 992,
   "metadata": {},
   "outputs": [
    {
     "data": {
      "text/plain": [
       "4167"
      ]
     },
     "execution_count": 992,
     "metadata": {},
     "output_type": "execute_result"
    }
   ],
   "source": [
    "sum(bfs('start','end',0))"
   ]
  },
  {
   "cell_type": "code",
   "execution_count": 993,
   "metadata": {},
   "outputs": [
    {
     "data": {
      "text/plain": [
       "98441"
      ]
     },
     "execution_count": 993,
     "metadata": {},
     "output_type": "execute_result"
    }
   ],
   "source": [
    "sum(bfs('start','end',1))"
   ]
  },
  {
   "cell_type": "code",
   "execution_count": 924,
   "metadata": {},
   "outputs": [
    {
     "ename": "NameError",
     "evalue": "name 'upaths' is not defined",
     "output_type": "error",
     "traceback": [
      "\u001b[0;31m---------------------------------------------------------------------------\u001b[0m",
      "\u001b[0;31mNameError\u001b[0m                                 Traceback (most recent call last)",
      "\u001b[0;32m<ipython-input-924-2295f53c8ebe>\u001b[0m in \u001b[0;36m<module>\u001b[0;34m\u001b[0m\n\u001b[0;32m----> 1\u001b[0;31m \u001b[0mupaths\u001b[0m\u001b[0;34m[\u001b[0m\u001b[0;36m1\u001b[0m\u001b[0;34m:\u001b[0m\u001b[0;34m-\u001b[0m\u001b[0;36m1\u001b[0m\u001b[0;34m]\u001b[0m\u001b[0;34m\u001b[0m\u001b[0;34m\u001b[0m\u001b[0m\n\u001b[0m",
      "\u001b[0;31mNameError\u001b[0m: name 'upaths' is not defined"
     ]
    }
   ],
   "source": [
    "upaths[1:-1]"
   ]
  },
  {
   "cell_type": "code",
   "execution_count": 971,
   "metadata": {},
   "outputs": [
    {
     "name": "stdout",
     "output_type": "stream",
     "text": [
      "['dc']\n",
      "next ['start', 'HN', 'end']\n",
      "['dc']\n"
     ]
    },
    {
     "data": {
      "text/plain": [
       "[['start', 'dc', 'end'], ['start', 'HN', 'end']]"
      ]
     },
     "execution_count": 971,
     "metadata": {},
     "output_type": "execute_result"
    }
   ],
   "source": [
    "find_unique_paths(ltups,small_caves)"
   ]
  },
  {
   "cell_type": "code",
   "execution_count": 980,
   "metadata": {},
   "outputs": [
    {
     "data": {
      "text/plain": [
       "['start', 'kj', 'sa', 'kj', 'HN', 'end']"
      ]
     },
     "execution_count": 980,
     "metadata": {},
     "output_type": "execute_result"
    }
   ],
   "source": [
    "walk(ltups,small_caves,['dc'])"
   ]
  },
  {
   "cell_type": "code",
   "execution_count": 978,
   "metadata": {},
   "outputs": [],
   "source": [
    "random.shuffle(ltups)"
   ]
  },
  {
   "cell_type": "code",
   "execution_count": null,
   "metadata": {},
   "outputs": [],
   "source": []
  },
  {
   "cell_type": "code",
   "execution_count": 979,
   "metadata": {},
   "outputs": [
    {
     "data": {
      "text/plain": [
       "[('kj', 'sa'),\n",
       " ('kj', 'dc'),\n",
       " ('start', 'kj'),\n",
       " ('LN', 'dc'),\n",
       " ('HN', 'end'),\n",
       " ('kj', 'HN'),\n",
       " ('dc', 'start'),\n",
       " ('dc', 'HN'),\n",
       " ('HN', 'start'),\n",
       " ('dc', 'end')]"
      ]
     },
     "execution_count": 979,
     "metadata": {},
     "output_type": "execute_result"
    }
   ],
   "source": [
    "ltups"
   ]
  },
  {
   "cell_type": "markdown",
   "metadata": {},
   "source": [
    "# Day 13\n",
    "\n",
    "The first section is a list of dots on the transparent paper. 0,0 represents the top-left coordinate. The first value, x, increases to the right. The second value, y, increases downward. So, the coordinate 3,0 is to the right of 0,0, and the coordinate 0,7 is below 0,0."
   ]
  },
  {
   "cell_type": "code",
   "execution_count": 1196,
   "metadata": {},
   "outputs": [],
   "source": [
    "def day13_part1(fname='test_input_day13.txt',first_fold_dir=np.flipud,first_fold_coord=7):\n",
    "    coords=[]\n",
    "    for line in open(fname).read().splitlines():\n",
    "        try:\n",
    "            x,y = line.split(',')\n",
    "            coords.append([int(x),int(y)])\n",
    "        except ValueError:\n",
    "            break\n",
    "    coords=np.array(coords)\n",
    "    paper_size=[np.max(coords[:,1])+1,np.max(coords[:,0])+1]\n",
    "    paper=np.zeros(paper_size)\n",
    "    for x,y in coords:\n",
    "        paper[y,x]=1\n",
    "    if first_fold_dir==np.flipud:\n",
    "        top_half=paper[:first_fold_coord]\n",
    "        bottom_half=paper[first_fold_coord+1:]\n",
    "    else: #other direction, fliplr\n",
    "        top_half=paper[:,:first_fold_coord]\n",
    "        bottom_half=paper[:,first_fold_coord+1:]\n",
    "    folded=top_half+first_fold_dir(bottom_half)\n",
    "    folded[folded >0]=1\n",
    "    return folded,np.sum(folded)"
   ]
  },
  {
   "cell_type": "code",
   "execution_count": 1197,
   "metadata": {},
   "outputs": [
    {
     "name": "stdout",
     "output_type": "stream",
     "text": [
      "17.0\n"
     ]
    }
   ],
   "source": [
    "code,n=day13_part1()\n",
    "print(n)"
   ]
  },
  {
   "cell_type": "code",
   "execution_count": 1198,
   "metadata": {},
   "outputs": [
    {
     "data": {
      "text/plain": [
       "<matplotlib.image.AxesImage at 0x7fb29a4517d0>"
      ]
     },
     "execution_count": 1198,
     "metadata": {},
     "output_type": "execute_result"
    },
    {
     "data": {
      "image/png": "[encoded data removed]",
      "text/plain": [
       "<Figure size 432x288 with 1 Axes>"
      ]
     },
     "metadata": {
      "needs_background": "light"
     },
     "output_type": "display_data"
    }
   ],
   "source": [
    "plt.imshow(code)"
   ]
  },
  {
   "cell_type": "code",
   "execution_count": 1199,
   "metadata": {},
   "outputs": [
    {
     "name": "stdout",
     "output_type": "stream",
     "text": [
      "759.0\n"
     ]
    }
   ],
   "source": [
    "code,n=day13_part1('input_day13.txt',first_fold_dir=np.fliplr,first_fold_coord=655)\n",
    "print(n)"
   ]
  },
  {
   "cell_type": "code",
   "execution_count": 1242,
   "metadata": {},
   "outputs": [],
   "source": [
    "def day13_part2(fname='test_input_day13.txt'):\n",
    "    coords,folds=[],[]\n",
    "    for line in open(fname).read().splitlines():\n",
    "        try:\n",
    "            x,y = line.split(',')\n",
    "            coords.append([int(x),int(y)])\n",
    "        except ValueError:\n",
    "            if line.startswith('fold'):\n",
    "                folds.append([line[line.find(\"=\")-1:line.find(\"=\")],int(line[line.find(\"=\")+1:])])\n",
    "            else:\n",
    "                continue\n",
    "    coords=np.array(coords)\n",
    "    paper_size=[np.max(coords[:,1])+2,np.max(coords[:,0])+1] #+2 in x because native size is even number which should not be allowed!\n",
    "    print(paper_size)\n",
    "    paper=np.zeros(paper_size)\n",
    "    #paper = np.zeros((np.max(coords, axis = 0)[::-1]+1))\n",
    "    for x,y in coords:\n",
    "        paper[y,x]=1\n",
    "    \n",
    "    for f,n in folds:\n",
    "        if f=='y':\n",
    "            folded=paper[0:n,:]+np.flip(paper[n+1:,:],axis=0)\n",
    "        else:\n",
    "            folded=paper[:,0:n]+np.flip(paper[:,n+1:],axis=1)\n",
    "    \n",
    "        folded[folded >0]=1\n",
    "        paper=folded\n",
    "    return paper, coords,folds"
   ]
  },
  {
   "cell_type": "code",
   "execution_count": 1230,
   "metadata": {},
   "outputs": [
    {
     "data": {
      "text/plain": [
       "<matplotlib.image.AxesImage at 0x7fb28b615410>"
      ]
     },
     "execution_count": 1230,
     "metadata": {},
     "output_type": "execute_result"
    },
    {
     "data": {
      "image/png": "[encoded data removed]",
      "text/plain": [
       "<Figure size 432x288 with 1 Axes>"
      ]
     },
     "metadata": {
      "needs_background": "light"
     },
     "output_type": "display_data"
    }
   ],
   "source": [
    "code,_,_=day13_part2()\n",
    "plt.imshow(code)"
   ]
  },
  {
   "cell_type": "code",
   "execution_count": 1243,
   "metadata": {},
   "outputs": [
    {
     "name": "stdout",
     "output_type": "stream",
     "text": [
      "[895, 1311]\n"
     ]
    }
   ],
   "source": [
    "code,coords,folds=day13_part2('input_day13.txt')"
   ]
  },
  {
   "cell_type": "code",
   "execution_count": 1244,
   "metadata": {},
   "outputs": [
    {
     "data": {
      "text/plain": [
       "<matplotlib.image.AxesImage at 0x7fb28b293610>"
      ]
     },
     "execution_count": 1244,
     "metadata": {},
     "output_type": "execute_result"
    },
    {
     "data": {
      "image/png": "[encoded data removed]",
      "text/plain": [
       "<Figure size 432x288 with 1 Axes>"
      ]
     },
     "metadata": {
      "needs_background": "light"
     },
     "output_type": "display_data"
    }
   ],
   "source": [
    "plt.imshow(code)"
   ]
  },
  {
   "cell_type": "markdown",
   "metadata": {},
   "source": [
    "# Day 14"
   ]
  },
  {
   "cell_type": "code",
   "execution_count": 22,
   "metadata": {},
   "outputs": [],
   "source": [
    "pairs = {}\n",
    "for line in open('input_day14.txt').read().splitlines():\n",
    "    try:\n",
    "        s,e = line.split(' -> ')\n",
    "        pairs.setdefault(s,e)\n",
    "    except ValueError:\n",
    "        if line !='':\n",
    "            poly_start=line"
   ]
  },
  {
   "cell_type": "code",
   "execution_count": 23,
   "metadata": {},
   "outputs": [
    {
     "data": {
      "text/plain": [
       "'PHVCVBFHCVPFKBNHKNBO'"
      ]
     },
     "execution_count": 23,
     "metadata": {},
     "output_type": "execute_result"
    }
   ],
   "source": [
    "poly_start"
   ]
  },
  {
   "cell_type": "code",
   "execution_count": 4,
   "metadata": {},
   "outputs": [],
   "source": [
    "from collections import Counter"
   ]
  },
  {
   "cell_type": "code",
   "execution_count": 19,
   "metadata": {},
   "outputs": [],
   "source": [
    "#don't construct the chain, that's a waste of time! just count pairs and elements\n",
    "def day14(poly_start,pairs,nsteps=2):\n",
    "    chain_start,chain_end=poly_start[0],poly_start[-1]\n",
    "    #print(chain_start,chain_end)\n",
    "    n_elems={p:0 for p in np.unique(list(pairs.values()))}\n",
    "    n_pairs={p:0 for p in pairs.keys()}\n",
    "    current_pairs=[poly_start[i:i+2] for i in range(len(poly_start)-1)]\n",
    "    #don't do the insertion but count the number of pairs that end up in the next layer\n",
    "    fp=[c[0]+pairs[c] for c in current_pairs]\n",
    "    sp=[pairs[c]+c[1] for c in current_pairs]\n",
    "    fp.extend(sp) #these are the pairs (order doesn't matter) that go into the next round\n",
    "    n_next_steps=Counter(fp)\n",
    "    for i in range(nsteps-1):\n",
    "        for p in n_next_steps:\n",
    "            n_pairs[p]+=n_next_steps[p] #add existing pairs to counter\n",
    "        #perform 'insertion'\n",
    "        #fp=[c[0]+pairs[c] for c in n_next_steps for j in range(n_next_steps[c])]\n",
    "        #sp=[pairs[c]+c[1] for c in n_next_steps for j in range(n_next_steps[c])]\n",
    "        # ^^ this is slow! just ad the numbers directly to the counter!\n",
    "        #for each pair, get the 2 new keys\n",
    "        n_new={p:0 for p in pairs.keys()}\n",
    "        for c in n_next_steps:\n",
    "            k1=c[0]+pairs[c]\n",
    "            k2=pairs[c]+c[1]\n",
    "            n_new[k1]+=n_next_steps[c]\n",
    "            n_new[k2]+=n_next_steps[c]\n",
    "        n_next_steps=Counter(n_new)\n",
    "        #fp.extend(sp) #these are the pairs (order doesn't matter) that go into the next round\n",
    "        #n_next_steps=Counter(fp)\n",
    "    #now count the elements - all are being double counted except letters at beginning and end! \n",
    "    #which will always be the same\n",
    "    for k in list(n_elems.keys()):\n",
    "        n_elems[k]=np.sum([n_next_steps[p]*p.count(k) for p in n_next_steps.keys() if k in p])/2 #gets it wrong for doubles! eg. CC\n",
    "        if k == chain_start or k == chain_end:\n",
    "            n_elems[k]+=.5\n",
    "    sorted_elems={k:v for v,k in sorted(zip(n_elems.values(),n_elems.keys()))}\n",
    "    return sorted_elems[list(sorted_elems.keys())[-1]]-sorted_elems[list(sorted_elems.keys())[0]]"
   ]
  },
  {
   "cell_type": "code",
   "execution_count": 25,
   "metadata": {
    "scrolled": true
   },
   "outputs": [
    {
     "name": "stdout",
     "output_type": "stream",
     "text": [
      "0\n",
      "1\n",
      "2\n",
      "3\n",
      "4\n",
      "5\n",
      "6\n",
      "7\n",
      "8\n",
      "9\n",
      "10\n",
      "11\n",
      "12\n",
      "13\n",
      "14\n",
      "15\n",
      "16\n",
      "17\n",
      "18\n",
      "19\n",
      "20\n",
      "21\n",
      "22\n",
      "23\n",
      "24\n",
      "25\n",
      "26\n",
      "27\n",
      "28\n",
      "29\n",
      "30\n",
      "31\n",
      "32\n",
      "33\n",
      "34\n",
      "35\n",
      "36\n",
      "37\n",
      "38\n"
     ]
    },
    {
     "data": {
      "text/plain": [
       "4439442043739.0"
      ]
     },
     "execution_count": 25,
     "metadata": {},
     "output_type": "execute_result"
    }
   ],
   "source": [
    "day14_part1(poly_start,pairs,nsteps=40)"
   ]
  },
  {
   "cell_type": "markdown",
   "metadata": {},
   "source": [
    "After step 10, B occurs 1749 times, C occurs 298 times, H occurs 161 times, and N occurs 865 times; taking the quantity of the most common element (B, 1749) and subtracting the quantity of the least common element (H, 161) produces 1749 - 161 = 1588."
   ]
  },
  {
   "cell_type": "code",
   "execution_count": 1349,
   "metadata": {},
   "outputs": [],
   "source": [
    "s1='NCNBCHB'\n",
    "s2='NBCCNBBBCBHCB'\n",
    "s3='NBBBCNCCNBBNBNBBCHBHHBCHB'\n",
    "s4='NBBNBNBBCCNBCNCCNBBNBBNBBBNBBNBBCBHCBHHNHCBBCBHCB'\n",
    "ss1=[s for s in s1]\n",
    "ss2=[s for s in s2]\n",
    "ss3=[s for s in s3]\n",
    "ss4=[s for s in s4]"
   ]
  },
  {
   "cell_type": "code",
   "execution_count": 1357,
   "metadata": {},
   "outputs": [
    {
     "data": {
      "text/plain": [
       "Counter({'N': 5, 'B': 11, 'C': 5, 'H': 4})"
      ]
     },
     "execution_count": 1357,
     "metadata": {},
     "output_type": "execute_result"
    }
   ],
   "source": [
    "Counter(ss3)"
   ]
  },
  {
   "cell_type": "code",
   "execution_count": 1291,
   "metadata": {},
   "outputs": [],
   "source": [
    "fp=[c[0]+pairs[c] for c in current_pairs]\n",
    "sp=[pairs[c]+c[1] for c in current_pairs]"
   ]
  },
  {
   "cell_type": "code",
   "execution_count": null,
   "metadata": {},
   "outputs": [],
   "source": []
  }
 ],
 "metadata": {
  "kernelspec": {
   "display_name": "Python 3",
   "language": "python",
   "name": "python3"
  },
  "language_info": {
   "codemirror_mode": {
    "name": "ipython",
    "version": 3
   },
   "file_extension": ".py",
   "mimetype": "text/x-python",
   "name": "python",
   "nbconvert_exporter": "python",
   "pygments_lexer": "ipython3",
   "version": "3.7.8"
  }
 },
 "nbformat": 4,
 "nbformat_minor": 4
}
